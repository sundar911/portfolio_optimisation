{
  "nbformat": 4,
  "nbformat_minor": 0,
  "metadata": {
    "kernelspec": {
      "display_name": "Python 2",
      "language": "python",
      "name": "python2"
    },
    "language_info": {
      "codemirror_mode": {
        "name": "ipython",
        "version": 2
      },
      "file_extension": ".py",
      "mimetype": "text/x-python",
      "name": "python",
      "nbconvert_exporter": "python",
      "pygments_lexer": "ipython2",
      "version": "2.7.16"
    },
    "colab": {
      "name": "allocation and Sharpe ratio basics.ipynb",
      "provenance": [],
      "collapsed_sections": [],
      "include_colab_link": true
    }
  },
  "cells": [
    {
      "cell_type": "markdown",
      "metadata": {
        "id": "view-in-github",
        "colab_type": "text"
      },
      "source": [
        "<a href=\"https://colab.research.google.com/github/sundar911/portfolio_optimisation/blob/main/allocation_and_Sharpe_ratio_basics.ipynb\" target=\"_parent\"><img src=\"https://colab.research.google.com/assets/colab-badge.svg\" alt=\"Open In Colab\"/></a>"
      ]
    },
    {
      "cell_type": "code",
      "metadata": {
        "id": "Gx031dP7CLfD"
      },
      "source": [
        "import pandas as pd\n",
        "import quandl"
      ],
      "execution_count": null,
      "outputs": []
    },
    {
      "cell_type": "code",
      "metadata": {
        "id": "lbWtjx_yCLfF"
      },
      "source": [
        "start = pd.to_datetime('2012-01-01')"
      ],
      "execution_count": null,
      "outputs": []
    },
    {
      "cell_type": "code",
      "metadata": {
        "id": "9BaUlp_PCLfG"
      },
      "source": [
        "end = pd.to_datetime('2017-01-01')"
      ],
      "execution_count": null,
      "outputs": []
    },
    {
      "cell_type": "code",
      "metadata": {
        "id": "tTiQmdJjCLfG"
      },
      "source": [
        "aapl = quandl.get('WIKI/AAPL.11',start_date=start,end_date=end)"
      ],
      "execution_count": null,
      "outputs": []
    },
    {
      "cell_type": "code",
      "metadata": {
        "id": "wpoPlIEJCLfH",
        "outputId": "f55d3b28-eebe-46e7-b6b4-c62464812e51"
      },
      "source": [
        "aapl"
      ],
      "execution_count": null,
      "outputs": [
        {
          "data": {
            "text/html": [
              "<div>\n",
              "<style scoped>\n",
              "    .dataframe tbody tr th:only-of-type {\n",
              "        vertical-align: middle;\n",
              "    }\n",
              "\n",
              "    .dataframe tbody tr th {\n",
              "        vertical-align: top;\n",
              "    }\n",
              "\n",
              "    .dataframe thead th {\n",
              "        text-align: right;\n",
              "    }\n",
              "</style>\n",
              "<table border=\"1\" class=\"dataframe\">\n",
              "  <thead>\n",
              "    <tr style=\"text-align: right;\">\n",
              "      <th></th>\n",
              "      <th>Adj. Close</th>\n",
              "    </tr>\n",
              "    <tr>\n",
              "      <th>Date</th>\n",
              "      <th></th>\n",
              "    </tr>\n",
              "  </thead>\n",
              "  <tbody>\n",
              "    <tr>\n",
              "      <th>2012-01-03</th>\n",
              "      <td>52.848787</td>\n",
              "    </tr>\n",
              "    <tr>\n",
              "      <th>2012-01-04</th>\n",
              "      <td>53.132802</td>\n",
              "    </tr>\n",
              "    <tr>\n",
              "      <th>2012-01-05</th>\n",
              "      <td>53.722681</td>\n",
              "    </tr>\n",
              "    <tr>\n",
              "      <th>2012-01-06</th>\n",
              "      <td>54.284287</td>\n",
              "    </tr>\n",
              "    <tr>\n",
              "      <th>2012-01-09</th>\n",
              "      <td>54.198183</td>\n",
              "    </tr>\n",
              "    <tr>\n",
              "      <th>...</th>\n",
              "      <td>...</td>\n",
              "    </tr>\n",
              "    <tr>\n",
              "      <th>2016-12-23</th>\n",
              "      <td>115.080808</td>\n",
              "    </tr>\n",
              "    <tr>\n",
              "      <th>2016-12-27</th>\n",
              "      <td>115.811668</td>\n",
              "    </tr>\n",
              "    <tr>\n",
              "      <th>2016-12-28</th>\n",
              "      <td>115.317843</td>\n",
              "    </tr>\n",
              "    <tr>\n",
              "      <th>2016-12-29</th>\n",
              "      <td>115.288214</td>\n",
              "    </tr>\n",
              "    <tr>\n",
              "      <th>2016-12-30</th>\n",
              "      <td>114.389454</td>\n",
              "    </tr>\n",
              "  </tbody>\n",
              "</table>\n",
              "<p>1258 rows × 1 columns</p>\n",
              "</div>"
            ],
            "text/plain": [
              "            Adj. Close\n",
              "Date                  \n",
              "2012-01-03   52.848787\n",
              "2012-01-04   53.132802\n",
              "2012-01-05   53.722681\n",
              "2012-01-06   54.284287\n",
              "2012-01-09   54.198183\n",
              "...                ...\n",
              "2016-12-23  115.080808\n",
              "2016-12-27  115.811668\n",
              "2016-12-28  115.317843\n",
              "2016-12-29  115.288214\n",
              "2016-12-30  114.389454\n",
              "\n",
              "[1258 rows x 1 columns]"
            ]
          },
          "execution_count": 5,
          "metadata": {},
          "output_type": "execute_result"
        }
      ]
    },
    {
      "cell_type": "code",
      "metadata": {
        "id": "jOt3hLipCLfI"
      },
      "source": [
        "cisco = quandl.get('WIKI/CSCO.11',start_date=start,end_date=end)\n",
        "ibm = quandl.get('WIKI/IBM.11',start_date=start,end_date=end)\n",
        "amzn = quandl.get('WIKI/AMZN.11',start_date=start,end_date=end)"
      ],
      "execution_count": null,
      "outputs": []
    },
    {
      "cell_type": "code",
      "metadata": {
        "id": "mGFFTIalCLfJ",
        "outputId": "6bea8888-c136-4b77-ecf8-83f86012cf93"
      },
      "source": [
        "cisco"
      ],
      "execution_count": null,
      "outputs": [
        {
          "data": {
            "text/html": [
              "<div>\n",
              "<style scoped>\n",
              "    .dataframe tbody tr th:only-of-type {\n",
              "        vertical-align: middle;\n",
              "    }\n",
              "\n",
              "    .dataframe tbody tr th {\n",
              "        vertical-align: top;\n",
              "    }\n",
              "\n",
              "    .dataframe thead th {\n",
              "        text-align: right;\n",
              "    }\n",
              "</style>\n",
              "<table border=\"1\" class=\"dataframe\">\n",
              "  <thead>\n",
              "    <tr style=\"text-align: right;\">\n",
              "      <th></th>\n",
              "      <th>Adj. Close</th>\n",
              "    </tr>\n",
              "    <tr>\n",
              "      <th>Date</th>\n",
              "      <th></th>\n",
              "    </tr>\n",
              "  </thead>\n",
              "  <tbody>\n",
              "    <tr>\n",
              "      <th>2012-01-03</th>\n",
              "      <td>15.617341</td>\n",
              "    </tr>\n",
              "    <tr>\n",
              "      <th>2012-01-04</th>\n",
              "      <td>15.919125</td>\n",
              "    </tr>\n",
              "    <tr>\n",
              "      <th>2012-01-05</th>\n",
              "      <td>15.860445</td>\n",
              "    </tr>\n",
              "    <tr>\n",
              "      <th>2012-01-06</th>\n",
              "      <td>15.801764</td>\n",
              "    </tr>\n",
              "    <tr>\n",
              "      <th>2012-01-09</th>\n",
              "      <td>15.902359</td>\n",
              "    </tr>\n",
              "    <tr>\n",
              "      <th>...</th>\n",
              "      <td>...</td>\n",
              "    </tr>\n",
              "    <tr>\n",
              "      <th>2016-12-23</th>\n",
              "      <td>29.475311</td>\n",
              "    </tr>\n",
              "    <tr>\n",
              "      <th>2016-12-27</th>\n",
              "      <td>29.620129</td>\n",
              "    </tr>\n",
              "    <tr>\n",
              "      <th>2016-12-28</th>\n",
              "      <td>29.369111</td>\n",
              "    </tr>\n",
              "    <tr>\n",
              "      <th>2016-12-29</th>\n",
              "      <td>29.407729</td>\n",
              "    </tr>\n",
              "    <tr>\n",
              "      <th>2016-12-30</th>\n",
              "      <td>29.176020</td>\n",
              "    </tr>\n",
              "  </tbody>\n",
              "</table>\n",
              "<p>1258 rows × 1 columns</p>\n",
              "</div>"
            ],
            "text/plain": [
              "            Adj. Close\n",
              "Date                  \n",
              "2012-01-03   15.617341\n",
              "2012-01-04   15.919125\n",
              "2012-01-05   15.860445\n",
              "2012-01-06   15.801764\n",
              "2012-01-09   15.902359\n",
              "...                ...\n",
              "2016-12-23   29.475311\n",
              "2016-12-27   29.620129\n",
              "2016-12-28   29.369111\n",
              "2016-12-29   29.407729\n",
              "2016-12-30   29.176020\n",
              "\n",
              "[1258 rows x 1 columns]"
            ]
          },
          "execution_count": 7,
          "metadata": {},
          "output_type": "execute_result"
        }
      ]
    },
    {
      "cell_type": "code",
      "metadata": {
        "id": "KmE6yA4UCLfJ",
        "outputId": "7353ce3e-243c-4e06-96ef-3d63d5bae322"
      },
      "source": [
        "ibm"
      ],
      "execution_count": null,
      "outputs": [
        {
          "data": {
            "text/html": [
              "<div>\n",
              "<style scoped>\n",
              "    .dataframe tbody tr th:only-of-type {\n",
              "        vertical-align: middle;\n",
              "    }\n",
              "\n",
              "    .dataframe tbody tr th {\n",
              "        vertical-align: top;\n",
              "    }\n",
              "\n",
              "    .dataframe thead th {\n",
              "        text-align: right;\n",
              "    }\n",
              "</style>\n",
              "<table border=\"1\" class=\"dataframe\">\n",
              "  <thead>\n",
              "    <tr style=\"text-align: right;\">\n",
              "      <th></th>\n",
              "      <th>Adj. Close</th>\n",
              "    </tr>\n",
              "    <tr>\n",
              "      <th>Date</th>\n",
              "      <th></th>\n",
              "    </tr>\n",
              "  </thead>\n",
              "  <tbody>\n",
              "    <tr>\n",
              "      <th>2012-01-03</th>\n",
              "      <td>157.578371</td>\n",
              "    </tr>\n",
              "    <tr>\n",
              "      <th>2012-01-04</th>\n",
              "      <td>156.935540</td>\n",
              "    </tr>\n",
              "    <tr>\n",
              "      <th>2012-01-05</th>\n",
              "      <td>156.191208</td>\n",
              "    </tr>\n",
              "    <tr>\n",
              "      <th>2012-01-06</th>\n",
              "      <td>154.398046</td>\n",
              "    </tr>\n",
              "    <tr>\n",
              "      <th>2012-01-09</th>\n",
              "      <td>153.594506</td>\n",
              "    </tr>\n",
              "    <tr>\n",
              "      <th>...</th>\n",
              "      <td>...</td>\n",
              "    </tr>\n",
              "    <tr>\n",
              "      <th>2016-12-23</th>\n",
              "      <td>160.477796</td>\n",
              "    </tr>\n",
              "    <tr>\n",
              "      <th>2016-12-27</th>\n",
              "      <td>160.891721</td>\n",
              "    </tr>\n",
              "    <tr>\n",
              "      <th>2016-12-28</th>\n",
              "      <td>159.977235</td>\n",
              "    </tr>\n",
              "    <tr>\n",
              "      <th>2016-12-29</th>\n",
              "      <td>160.371908</td>\n",
              "    </tr>\n",
              "    <tr>\n",
              "      <th>2016-12-30</th>\n",
              "      <td>159.784712</td>\n",
              "    </tr>\n",
              "  </tbody>\n",
              "</table>\n",
              "<p>1258 rows × 1 columns</p>\n",
              "</div>"
            ],
            "text/plain": [
              "            Adj. Close\n",
              "Date                  \n",
              "2012-01-03  157.578371\n",
              "2012-01-04  156.935540\n",
              "2012-01-05  156.191208\n",
              "2012-01-06  154.398046\n",
              "2012-01-09  153.594506\n",
              "...                ...\n",
              "2016-12-23  160.477796\n",
              "2016-12-27  160.891721\n",
              "2016-12-28  159.977235\n",
              "2016-12-29  160.371908\n",
              "2016-12-30  159.784712\n",
              "\n",
              "[1258 rows x 1 columns]"
            ]
          },
          "execution_count": 8,
          "metadata": {},
          "output_type": "execute_result"
        }
      ]
    },
    {
      "cell_type": "code",
      "metadata": {
        "id": "VsGi436-CLfJ",
        "outputId": "3f3c7a73-b6cc-42bf-d73d-ca1828707fe5"
      },
      "source": [
        "amzn"
      ],
      "execution_count": null,
      "outputs": [
        {
          "data": {
            "text/html": [
              "<div>\n",
              "<style scoped>\n",
              "    .dataframe tbody tr th:only-of-type {\n",
              "        vertical-align: middle;\n",
              "    }\n",
              "\n",
              "    .dataframe tbody tr th {\n",
              "        vertical-align: top;\n",
              "    }\n",
              "\n",
              "    .dataframe thead th {\n",
              "        text-align: right;\n",
              "    }\n",
              "</style>\n",
              "<table border=\"1\" class=\"dataframe\">\n",
              "  <thead>\n",
              "    <tr style=\"text-align: right;\">\n",
              "      <th></th>\n",
              "      <th>Adj. Close</th>\n",
              "    </tr>\n",
              "    <tr>\n",
              "      <th>Date</th>\n",
              "      <th></th>\n",
              "    </tr>\n",
              "  </thead>\n",
              "  <tbody>\n",
              "    <tr>\n",
              "      <th>2012-01-03</th>\n",
              "      <td>179.03</td>\n",
              "    </tr>\n",
              "    <tr>\n",
              "      <th>2012-01-04</th>\n",
              "      <td>177.51</td>\n",
              "    </tr>\n",
              "    <tr>\n",
              "      <th>2012-01-05</th>\n",
              "      <td>177.61</td>\n",
              "    </tr>\n",
              "    <tr>\n",
              "      <th>2012-01-06</th>\n",
              "      <td>182.61</td>\n",
              "    </tr>\n",
              "    <tr>\n",
              "      <th>2012-01-09</th>\n",
              "      <td>178.56</td>\n",
              "    </tr>\n",
              "    <tr>\n",
              "      <th>...</th>\n",
              "      <td>...</td>\n",
              "    </tr>\n",
              "    <tr>\n",
              "      <th>2016-12-23</th>\n",
              "      <td>760.59</td>\n",
              "    </tr>\n",
              "    <tr>\n",
              "      <th>2016-12-27</th>\n",
              "      <td>771.40</td>\n",
              "    </tr>\n",
              "    <tr>\n",
              "      <th>2016-12-28</th>\n",
              "      <td>772.13</td>\n",
              "    </tr>\n",
              "    <tr>\n",
              "      <th>2016-12-29</th>\n",
              "      <td>765.15</td>\n",
              "    </tr>\n",
              "    <tr>\n",
              "      <th>2016-12-30</th>\n",
              "      <td>749.87</td>\n",
              "    </tr>\n",
              "  </tbody>\n",
              "</table>\n",
              "<p>1258 rows × 1 columns</p>\n",
              "</div>"
            ],
            "text/plain": [
              "            Adj. Close\n",
              "Date                  \n",
              "2012-01-03      179.03\n",
              "2012-01-04      177.51\n",
              "2012-01-05      177.61\n",
              "2012-01-06      182.61\n",
              "2012-01-09      178.56\n",
              "...                ...\n",
              "2016-12-23      760.59\n",
              "2016-12-27      771.40\n",
              "2016-12-28      772.13\n",
              "2016-12-29      765.15\n",
              "2016-12-30      749.87\n",
              "\n",
              "[1258 rows x 1 columns]"
            ]
          },
          "execution_count": 9,
          "metadata": {},
          "output_type": "execute_result"
        }
      ]
    },
    {
      "cell_type": "code",
      "metadata": {
        "id": "ALWP21g0CLfK"
      },
      "source": [
        "for stock_df in (aapl,cisco,ibm,amzn):\n",
        "    stock_df['Cumulative return'] = stock_df['Adj. Close']/stock_df.iloc[0]['Adj. Close']"
      ],
      "execution_count": null,
      "outputs": []
    },
    {
      "cell_type": "code",
      "metadata": {
        "id": "FMA9COBgCLfK",
        "outputId": "0484b682-3e2d-44c6-cb8c-9c0f775577ad"
      },
      "source": [
        "aapl"
      ],
      "execution_count": null,
      "outputs": [
        {
          "data": {
            "text/html": [
              "<div>\n",
              "<style scoped>\n",
              "    .dataframe tbody tr th:only-of-type {\n",
              "        vertical-align: middle;\n",
              "    }\n",
              "\n",
              "    .dataframe tbody tr th {\n",
              "        vertical-align: top;\n",
              "    }\n",
              "\n",
              "    .dataframe thead th {\n",
              "        text-align: right;\n",
              "    }\n",
              "</style>\n",
              "<table border=\"1\" class=\"dataframe\">\n",
              "  <thead>\n",
              "    <tr style=\"text-align: right;\">\n",
              "      <th></th>\n",
              "      <th>Adj. Close</th>\n",
              "      <th>Normed return</th>\n",
              "      <th>Cumulative return</th>\n",
              "    </tr>\n",
              "    <tr>\n",
              "      <th>Date</th>\n",
              "      <th></th>\n",
              "      <th></th>\n",
              "      <th></th>\n",
              "    </tr>\n",
              "  </thead>\n",
              "  <tbody>\n",
              "    <tr>\n",
              "      <th>2012-01-03</th>\n",
              "      <td>52.848787</td>\n",
              "      <td>1.000000</td>\n",
              "      <td>1.000000</td>\n",
              "    </tr>\n",
              "    <tr>\n",
              "      <th>2012-01-04</th>\n",
              "      <td>53.132802</td>\n",
              "      <td>1.005374</td>\n",
              "      <td>1.005374</td>\n",
              "    </tr>\n",
              "    <tr>\n",
              "      <th>2012-01-05</th>\n",
              "      <td>53.722681</td>\n",
              "      <td>1.016536</td>\n",
              "      <td>1.016536</td>\n",
              "    </tr>\n",
              "    <tr>\n",
              "      <th>2012-01-06</th>\n",
              "      <td>54.284287</td>\n",
              "      <td>1.027162</td>\n",
              "      <td>1.027162</td>\n",
              "    </tr>\n",
              "    <tr>\n",
              "      <th>2012-01-09</th>\n",
              "      <td>54.198183</td>\n",
              "      <td>1.025533</td>\n",
              "      <td>1.025533</td>\n",
              "    </tr>\n",
              "    <tr>\n",
              "      <th>...</th>\n",
              "      <td>...</td>\n",
              "      <td>...</td>\n",
              "      <td>...</td>\n",
              "    </tr>\n",
              "    <tr>\n",
              "      <th>2016-12-23</th>\n",
              "      <td>115.080808</td>\n",
              "      <td>2.177549</td>\n",
              "      <td>2.177549</td>\n",
              "    </tr>\n",
              "    <tr>\n",
              "      <th>2016-12-27</th>\n",
              "      <td>115.811668</td>\n",
              "      <td>2.191378</td>\n",
              "      <td>2.191378</td>\n",
              "    </tr>\n",
              "    <tr>\n",
              "      <th>2016-12-28</th>\n",
              "      <td>115.317843</td>\n",
              "      <td>2.182034</td>\n",
              "      <td>2.182034</td>\n",
              "    </tr>\n",
              "    <tr>\n",
              "      <th>2016-12-29</th>\n",
              "      <td>115.288214</td>\n",
              "      <td>2.181473</td>\n",
              "      <td>2.181473</td>\n",
              "    </tr>\n",
              "    <tr>\n",
              "      <th>2016-12-30</th>\n",
              "      <td>114.389454</td>\n",
              "      <td>2.164467</td>\n",
              "      <td>2.164467</td>\n",
              "    </tr>\n",
              "  </tbody>\n",
              "</table>\n",
              "<p>1258 rows × 3 columns</p>\n",
              "</div>"
            ],
            "text/plain": [
              "            Adj. Close  Normed return  Cumulative return\n",
              "Date                                                    \n",
              "2012-01-03   52.848787       1.000000           1.000000\n",
              "2012-01-04   53.132802       1.005374           1.005374\n",
              "2012-01-05   53.722681       1.016536           1.016536\n",
              "2012-01-06   54.284287       1.027162           1.027162\n",
              "2012-01-09   54.198183       1.025533           1.025533\n",
              "...                ...            ...                ...\n",
              "2016-12-23  115.080808       2.177549           2.177549\n",
              "2016-12-27  115.811668       2.191378           2.191378\n",
              "2016-12-28  115.317843       2.182034           2.182034\n",
              "2016-12-29  115.288214       2.181473           2.181473\n",
              "2016-12-30  114.389454       2.164467           2.164467\n",
              "\n",
              "[1258 rows x 3 columns]"
            ]
          },
          "execution_count": 13,
          "metadata": {},
          "output_type": "execute_result"
        }
      ]
    },
    {
      "cell_type": "code",
      "metadata": {
        "id": "twmtJd23CLfL"
      },
      "source": [
        "for stock_df, alloc in zip([aapl,cisco,ibm,amzn],[.3,.2,.4,.1]): #allocating money\n",
        "    stock_df['Allocation'] = stock_df['Cumulative return']*alloc"
      ],
      "execution_count": null,
      "outputs": []
    },
    {
      "cell_type": "code",
      "metadata": {
        "id": "k7MaW7HnCLfL",
        "outputId": "a598ffbb-01d2-44c1-f85f-5811f79d0e47"
      },
      "source": [
        "aapl"
      ],
      "execution_count": null,
      "outputs": [
        {
          "data": {
            "text/html": [
              "<div>\n",
              "<style scoped>\n",
              "    .dataframe tbody tr th:only-of-type {\n",
              "        vertical-align: middle;\n",
              "    }\n",
              "\n",
              "    .dataframe tbody tr th {\n",
              "        vertical-align: top;\n",
              "    }\n",
              "\n",
              "    .dataframe thead th {\n",
              "        text-align: right;\n",
              "    }\n",
              "</style>\n",
              "<table border=\"1\" class=\"dataframe\">\n",
              "  <thead>\n",
              "    <tr style=\"text-align: right;\">\n",
              "      <th></th>\n",
              "      <th>Adj. Close</th>\n",
              "      <th>Normed return</th>\n",
              "      <th>Cumulative return</th>\n",
              "      <th>Aloocation</th>\n",
              "      <th>Allocation</th>\n",
              "    </tr>\n",
              "    <tr>\n",
              "      <th>Date</th>\n",
              "      <th></th>\n",
              "      <th></th>\n",
              "      <th></th>\n",
              "      <th></th>\n",
              "      <th></th>\n",
              "    </tr>\n",
              "  </thead>\n",
              "  <tbody>\n",
              "    <tr>\n",
              "      <th>2012-01-03</th>\n",
              "      <td>52.848787</td>\n",
              "      <td>1.000000</td>\n",
              "      <td>1.000000</td>\n",
              "      <td>0.300000</td>\n",
              "      <td>0.300000</td>\n",
              "    </tr>\n",
              "    <tr>\n",
              "      <th>2012-01-04</th>\n",
              "      <td>53.132802</td>\n",
              "      <td>1.005374</td>\n",
              "      <td>1.005374</td>\n",
              "      <td>0.301612</td>\n",
              "      <td>0.301612</td>\n",
              "    </tr>\n",
              "    <tr>\n",
              "      <th>2012-01-05</th>\n",
              "      <td>53.722681</td>\n",
              "      <td>1.016536</td>\n",
              "      <td>1.016536</td>\n",
              "      <td>0.304961</td>\n",
              "      <td>0.304961</td>\n",
              "    </tr>\n",
              "    <tr>\n",
              "      <th>2012-01-06</th>\n",
              "      <td>54.284287</td>\n",
              "      <td>1.027162</td>\n",
              "      <td>1.027162</td>\n",
              "      <td>0.308149</td>\n",
              "      <td>0.308149</td>\n",
              "    </tr>\n",
              "    <tr>\n",
              "      <th>2012-01-09</th>\n",
              "      <td>54.198183</td>\n",
              "      <td>1.025533</td>\n",
              "      <td>1.025533</td>\n",
              "      <td>0.307660</td>\n",
              "      <td>0.307660</td>\n",
              "    </tr>\n",
              "    <tr>\n",
              "      <th>...</th>\n",
              "      <td>...</td>\n",
              "      <td>...</td>\n",
              "      <td>...</td>\n",
              "      <td>...</td>\n",
              "      <td>...</td>\n",
              "    </tr>\n",
              "    <tr>\n",
              "      <th>2016-12-23</th>\n",
              "      <td>115.080808</td>\n",
              "      <td>2.177549</td>\n",
              "      <td>2.177549</td>\n",
              "      <td>0.653265</td>\n",
              "      <td>0.653265</td>\n",
              "    </tr>\n",
              "    <tr>\n",
              "      <th>2016-12-27</th>\n",
              "      <td>115.811668</td>\n",
              "      <td>2.191378</td>\n",
              "      <td>2.191378</td>\n",
              "      <td>0.657413</td>\n",
              "      <td>0.657413</td>\n",
              "    </tr>\n",
              "    <tr>\n",
              "      <th>2016-12-28</th>\n",
              "      <td>115.317843</td>\n",
              "      <td>2.182034</td>\n",
              "      <td>2.182034</td>\n",
              "      <td>0.654610</td>\n",
              "      <td>0.654610</td>\n",
              "    </tr>\n",
              "    <tr>\n",
              "      <th>2016-12-29</th>\n",
              "      <td>115.288214</td>\n",
              "      <td>2.181473</td>\n",
              "      <td>2.181473</td>\n",
              "      <td>0.654442</td>\n",
              "      <td>0.654442</td>\n",
              "    </tr>\n",
              "    <tr>\n",
              "      <th>2016-12-30</th>\n",
              "      <td>114.389454</td>\n",
              "      <td>2.164467</td>\n",
              "      <td>2.164467</td>\n",
              "      <td>0.649340</td>\n",
              "      <td>0.649340</td>\n",
              "    </tr>\n",
              "  </tbody>\n",
              "</table>\n",
              "<p>1258 rows × 5 columns</p>\n",
              "</div>"
            ],
            "text/plain": [
              "            Adj. Close  Normed return  Cumulative return  Aloocation  \\\n",
              "Date                                                                   \n",
              "2012-01-03   52.848787       1.000000           1.000000    0.300000   \n",
              "2012-01-04   53.132802       1.005374           1.005374    0.301612   \n",
              "2012-01-05   53.722681       1.016536           1.016536    0.304961   \n",
              "2012-01-06   54.284287       1.027162           1.027162    0.308149   \n",
              "2012-01-09   54.198183       1.025533           1.025533    0.307660   \n",
              "...                ...            ...                ...         ...   \n",
              "2016-12-23  115.080808       2.177549           2.177549    0.653265   \n",
              "2016-12-27  115.811668       2.191378           2.191378    0.657413   \n",
              "2016-12-28  115.317843       2.182034           2.182034    0.654610   \n",
              "2016-12-29  115.288214       2.181473           2.181473    0.654442   \n",
              "2016-12-30  114.389454       2.164467           2.164467    0.649340   \n",
              "\n",
              "            Allocation  \n",
              "Date                    \n",
              "2012-01-03    0.300000  \n",
              "2012-01-04    0.301612  \n",
              "2012-01-05    0.304961  \n",
              "2012-01-06    0.308149  \n",
              "2012-01-09    0.307660  \n",
              "...                ...  \n",
              "2016-12-23    0.653265  \n",
              "2016-12-27    0.657413  \n",
              "2016-12-28    0.654610  \n",
              "2016-12-29    0.654442  \n",
              "2016-12-30    0.649340  \n",
              "\n",
              "[1258 rows x 5 columns]"
            ]
          },
          "execution_count": 18,
          "metadata": {},
          "output_type": "execute_result"
        }
      ]
    },
    {
      "cell_type": "code",
      "metadata": {
        "id": "ZCQmxQICCLfL"
      },
      "source": [
        "for stock_df in (aapl,cisco,ibm,amzn):\n",
        "    stock_df['position values'] = stock_df['Allocation']*1000000"
      ],
      "execution_count": null,
      "outputs": []
    },
    {
      "cell_type": "code",
      "metadata": {
        "id": "zSFSioiICLfM",
        "outputId": "be74dff1-1f54-4773-e6c7-6712a5ceea6d"
      },
      "source": [
        "aapl"
      ],
      "execution_count": null,
      "outputs": [
        {
          "data": {
            "text/html": [
              "<div>\n",
              "<style scoped>\n",
              "    .dataframe tbody tr th:only-of-type {\n",
              "        vertical-align: middle;\n",
              "    }\n",
              "\n",
              "    .dataframe tbody tr th {\n",
              "        vertical-align: top;\n",
              "    }\n",
              "\n",
              "    .dataframe thead th {\n",
              "        text-align: right;\n",
              "    }\n",
              "</style>\n",
              "<table border=\"1\" class=\"dataframe\">\n",
              "  <thead>\n",
              "    <tr style=\"text-align: right;\">\n",
              "      <th></th>\n",
              "      <th>Adj. Close</th>\n",
              "      <th>Normed return</th>\n",
              "      <th>Cumulative return</th>\n",
              "      <th>Aloocation</th>\n",
              "      <th>Allocation</th>\n",
              "      <th>position values</th>\n",
              "    </tr>\n",
              "    <tr>\n",
              "      <th>Date</th>\n",
              "      <th></th>\n",
              "      <th></th>\n",
              "      <th></th>\n",
              "      <th></th>\n",
              "      <th></th>\n",
              "      <th></th>\n",
              "    </tr>\n",
              "  </thead>\n",
              "  <tbody>\n",
              "    <tr>\n",
              "      <th>2012-01-03</th>\n",
              "      <td>52.848787</td>\n",
              "      <td>1.000000</td>\n",
              "      <td>1.000000</td>\n",
              "      <td>0.300000</td>\n",
              "      <td>0.300000</td>\n",
              "      <td>300000.000000</td>\n",
              "    </tr>\n",
              "    <tr>\n",
              "      <th>2012-01-04</th>\n",
              "      <td>53.132802</td>\n",
              "      <td>1.005374</td>\n",
              "      <td>1.005374</td>\n",
              "      <td>0.301612</td>\n",
              "      <td>0.301612</td>\n",
              "      <td>301612.236461</td>\n",
              "    </tr>\n",
              "    <tr>\n",
              "      <th>2012-01-05</th>\n",
              "      <td>53.722681</td>\n",
              "      <td>1.016536</td>\n",
              "      <td>1.016536</td>\n",
              "      <td>0.304961</td>\n",
              "      <td>0.304961</td>\n",
              "      <td>304960.727573</td>\n",
              "    </tr>\n",
              "    <tr>\n",
              "      <th>2012-01-06</th>\n",
              "      <td>54.284287</td>\n",
              "      <td>1.027162</td>\n",
              "      <td>1.027162</td>\n",
              "      <td>0.308149</td>\n",
              "      <td>0.308149</td>\n",
              "      <td>308148.724558</td>\n",
              "    </tr>\n",
              "    <tr>\n",
              "      <th>2012-01-09</th>\n",
              "      <td>54.198183</td>\n",
              "      <td>1.025533</td>\n",
              "      <td>1.025533</td>\n",
              "      <td>0.307660</td>\n",
              "      <td>0.307660</td>\n",
              "      <td>307659.946988</td>\n",
              "    </tr>\n",
              "    <tr>\n",
              "      <th>...</th>\n",
              "      <td>...</td>\n",
              "      <td>...</td>\n",
              "      <td>...</td>\n",
              "      <td>...</td>\n",
              "      <td>...</td>\n",
              "      <td>...</td>\n",
              "    </tr>\n",
              "    <tr>\n",
              "      <th>2016-12-23</th>\n",
              "      <td>115.080808</td>\n",
              "      <td>2.177549</td>\n",
              "      <td>2.177549</td>\n",
              "      <td>0.653265</td>\n",
              "      <td>0.653265</td>\n",
              "      <td>653264.617079</td>\n",
              "    </tr>\n",
              "    <tr>\n",
              "      <th>2016-12-27</th>\n",
              "      <td>115.811668</td>\n",
              "      <td>2.191378</td>\n",
              "      <td>2.191378</td>\n",
              "      <td>0.657413</td>\n",
              "      <td>0.657413</td>\n",
              "      <td>657413.396830</td>\n",
              "    </tr>\n",
              "    <tr>\n",
              "      <th>2016-12-28</th>\n",
              "      <td>115.317843</td>\n",
              "      <td>2.182034</td>\n",
              "      <td>2.182034</td>\n",
              "      <td>0.654610</td>\n",
              "      <td>0.654610</td>\n",
              "      <td>654610.167268</td>\n",
              "    </tr>\n",
              "    <tr>\n",
              "      <th>2016-12-29</th>\n",
              "      <td>115.288214</td>\n",
              "      <td>2.181473</td>\n",
              "      <td>2.181473</td>\n",
              "      <td>0.654442</td>\n",
              "      <td>0.654442</td>\n",
              "      <td>654441.973495</td>\n",
              "    </tr>\n",
              "    <tr>\n",
              "      <th>2016-12-30</th>\n",
              "      <td>114.389454</td>\n",
              "      <td>2.164467</td>\n",
              "      <td>2.164467</td>\n",
              "      <td>0.649340</td>\n",
              "      <td>0.649340</td>\n",
              "      <td>649340.095692</td>\n",
              "    </tr>\n",
              "  </tbody>\n",
              "</table>\n",
              "<p>1258 rows × 6 columns</p>\n",
              "</div>"
            ],
            "text/plain": [
              "            Adj. Close  Normed return  Cumulative return  Aloocation  \\\n",
              "Date                                                                   \n",
              "2012-01-03   52.848787       1.000000           1.000000    0.300000   \n",
              "2012-01-04   53.132802       1.005374           1.005374    0.301612   \n",
              "2012-01-05   53.722681       1.016536           1.016536    0.304961   \n",
              "2012-01-06   54.284287       1.027162           1.027162    0.308149   \n",
              "2012-01-09   54.198183       1.025533           1.025533    0.307660   \n",
              "...                ...            ...                ...         ...   \n",
              "2016-12-23  115.080808       2.177549           2.177549    0.653265   \n",
              "2016-12-27  115.811668       2.191378           2.191378    0.657413   \n",
              "2016-12-28  115.317843       2.182034           2.182034    0.654610   \n",
              "2016-12-29  115.288214       2.181473           2.181473    0.654442   \n",
              "2016-12-30  114.389454       2.164467           2.164467    0.649340   \n",
              "\n",
              "            Allocation  position values  \n",
              "Date                                     \n",
              "2012-01-03    0.300000    300000.000000  \n",
              "2012-01-04    0.301612    301612.236461  \n",
              "2012-01-05    0.304961    304960.727573  \n",
              "2012-01-06    0.308149    308148.724558  \n",
              "2012-01-09    0.307660    307659.946988  \n",
              "...                ...              ...  \n",
              "2016-12-23    0.653265    653264.617079  \n",
              "2016-12-27    0.657413    657413.396830  \n",
              "2016-12-28    0.654610    654610.167268  \n",
              "2016-12-29    0.654442    654441.973495  \n",
              "2016-12-30    0.649340    649340.095692  \n",
              "\n",
              "[1258 rows x 6 columns]"
            ]
          },
          "execution_count": 22,
          "metadata": {},
          "output_type": "execute_result"
        }
      ]
    },
    {
      "cell_type": "code",
      "metadata": {
        "id": "itFR-4t3CLfM"
      },
      "source": [
        "all_pos_vals = [aapl['position values'],cisco['position values'],ibm['position values'],amzn['position values']]\n",
        "portfolio_val = pd.concat(all_pos_vals,axis=1)"
      ],
      "execution_count": null,
      "outputs": []
    },
    {
      "cell_type": "code",
      "metadata": {
        "id": "TR58vso8CLfM",
        "outputId": "db5f1f3d-5737-4495-f8b0-27ce2abbceaf"
      },
      "source": [
        "portfolio_val"
      ],
      "execution_count": null,
      "outputs": [
        {
          "data": {
            "text/html": [
              "<div>\n",
              "<style scoped>\n",
              "    .dataframe tbody tr th:only-of-type {\n",
              "        vertical-align: middle;\n",
              "    }\n",
              "\n",
              "    .dataframe tbody tr th {\n",
              "        vertical-align: top;\n",
              "    }\n",
              "\n",
              "    .dataframe thead th {\n",
              "        text-align: right;\n",
              "    }\n",
              "</style>\n",
              "<table border=\"1\" class=\"dataframe\">\n",
              "  <thead>\n",
              "    <tr style=\"text-align: right;\">\n",
              "      <th></th>\n",
              "      <th>position values</th>\n",
              "      <th>position values</th>\n",
              "      <th>position values</th>\n",
              "      <th>position values</th>\n",
              "    </tr>\n",
              "    <tr>\n",
              "      <th>Date</th>\n",
              "      <th></th>\n",
              "      <th></th>\n",
              "      <th></th>\n",
              "      <th></th>\n",
              "    </tr>\n",
              "  </thead>\n",
              "  <tbody>\n",
              "    <tr>\n",
              "      <th>2012-01-03</th>\n",
              "      <td>300000.000000</td>\n",
              "      <td>200000.000000</td>\n",
              "      <td>400000.000000</td>\n",
              "      <td>100000.000000</td>\n",
              "    </tr>\n",
              "    <tr>\n",
              "      <th>2012-01-04</th>\n",
              "      <td>301612.236461</td>\n",
              "      <td>203864.734300</td>\n",
              "      <td>398368.223296</td>\n",
              "      <td>99150.980283</td>\n",
              "    </tr>\n",
              "    <tr>\n",
              "      <th>2012-01-05</th>\n",
              "      <td>304960.727573</td>\n",
              "      <td>203113.258186</td>\n",
              "      <td>396478.797638</td>\n",
              "      <td>99206.836843</td>\n",
              "    </tr>\n",
              "    <tr>\n",
              "      <th>2012-01-06</th>\n",
              "      <td>308148.724558</td>\n",
              "      <td>202361.782072</td>\n",
              "      <td>391926.999463</td>\n",
              "      <td>101999.664861</td>\n",
              "    </tr>\n",
              "    <tr>\n",
              "      <th>2012-01-09</th>\n",
              "      <td>307659.946988</td>\n",
              "      <td>203650.026838</td>\n",
              "      <td>389887.278583</td>\n",
              "      <td>99737.474166</td>\n",
              "    </tr>\n",
              "    <tr>\n",
              "      <th>...</th>\n",
              "      <td>...</td>\n",
              "      <td>...</td>\n",
              "      <td>...</td>\n",
              "      <td>...</td>\n",
              "    </tr>\n",
              "    <tr>\n",
              "      <th>2016-12-23</th>\n",
              "      <td>653264.617079</td>\n",
              "      <td>377469.015679</td>\n",
              "      <td>407359.955612</td>\n",
              "      <td>424839.412389</td>\n",
              "    </tr>\n",
              "    <tr>\n",
              "      <th>2016-12-27</th>\n",
              "      <td>657413.396830</td>\n",
              "      <td>379323.596496</td>\n",
              "      <td>408410.671112</td>\n",
              "      <td>430877.506563</td>\n",
              "    </tr>\n",
              "    <tr>\n",
              "      <th>2016-12-28</th>\n",
              "      <td>654610.167268</td>\n",
              "      <td>376108.989746</td>\n",
              "      <td>406089.322915</td>\n",
              "      <td>431285.259454</td>\n",
              "    </tr>\n",
              "    <tr>\n",
              "      <th>2016-12-29</th>\n",
              "      <td>654441.973495</td>\n",
              "      <td>376603.544631</td>\n",
              "      <td>407091.167926</td>\n",
              "      <td>427386.471541</td>\n",
              "    </tr>\n",
              "    <tr>\n",
              "      <th>2016-12-30</th>\n",
              "      <td>649340.095692</td>\n",
              "      <td>373636.215323</td>\n",
              "      <td>405600.618032</td>\n",
              "      <td>418851.589119</td>\n",
              "    </tr>\n",
              "  </tbody>\n",
              "</table>\n",
              "<p>1258 rows × 4 columns</p>\n",
              "</div>"
            ],
            "text/plain": [
              "            position values  position values  position values  position values\n",
              "Date                                                                          \n",
              "2012-01-03    300000.000000    200000.000000    400000.000000    100000.000000\n",
              "2012-01-04    301612.236461    203864.734300    398368.223296     99150.980283\n",
              "2012-01-05    304960.727573    203113.258186    396478.797638     99206.836843\n",
              "2012-01-06    308148.724558    202361.782072    391926.999463    101999.664861\n",
              "2012-01-09    307659.946988    203650.026838    389887.278583     99737.474166\n",
              "...                     ...              ...              ...              ...\n",
              "2016-12-23    653264.617079    377469.015679    407359.955612    424839.412389\n",
              "2016-12-27    657413.396830    379323.596496    408410.671112    430877.506563\n",
              "2016-12-28    654610.167268    376108.989746    406089.322915    431285.259454\n",
              "2016-12-29    654441.973495    376603.544631    407091.167926    427386.471541\n",
              "2016-12-30    649340.095692    373636.215323    405600.618032    418851.589119\n",
              "\n",
              "[1258 rows x 4 columns]"
            ]
          },
          "execution_count": 40,
          "metadata": {},
          "output_type": "execute_result"
        }
      ]
    },
    {
      "cell_type": "code",
      "metadata": {
        "id": "sK4CvOKeCLfN"
      },
      "source": [
        "portfolio_val.columns = ['aapl pos','cisco pos','ibm pos','amzn pos']"
      ],
      "execution_count": null,
      "outputs": []
    },
    {
      "cell_type": "code",
      "metadata": {
        "id": "Vcj0l5LRCLfN"
      },
      "source": [
        "portfolio_val['total pos'] = portfolio_val.sum(axis=1)"
      ],
      "execution_count": null,
      "outputs": []
    },
    {
      "cell_type": "code",
      "metadata": {
        "id": "hjVTYZO6CLfN",
        "outputId": "451c8c6a-a626-4b54-9b20-da0dc4d5c746"
      },
      "source": [
        "import matplotlib.pyplot\n",
        "%matplotlib inline\n",
        "portfolio_val['total pos'].plot()"
      ],
      "execution_count": null,
      "outputs": [
        {
          "data": {
            "text/plain": [
              "<matplotlib.axes._subplots.AxesSubplot at 0x7f82e0fa80d0>"
            ]
          },
          "execution_count": 44,
          "metadata": {},
          "output_type": "execute_result"
        },
        {
          "data": {
            "image/png": "[encoded data removed]",
            "text/plain": [
              "<Figure size 432x288 with 1 Axes>"
            ]
          },
          "metadata": {
            "needs_background": "light"
          },
          "output_type": "display_data"
        }
      ]
    },
    {
      "cell_type": "code",
      "metadata": {
        "id": "ZGiFwnOhCLfO",
        "outputId": "3029951d-789e-41e1-bdb4-45a17827486a"
      },
      "source": [
        "portfolio_val.plot(figsize=(12,10))"
      ],
      "execution_count": null,
      "outputs": [
        {
          "data": {
            "text/plain": [
              "<matplotlib.axes._subplots.AxesSubplot at 0x7f82e17cbb80>"
            ]
          },
          "execution_count": 49,
          "metadata": {},
          "output_type": "execute_result"
        },
        {
          "data": {
            "image/png": "[encoded data removed]",
            "text/plain": [
              "<Figure size 864x720 with 1 Axes>"
            ]
          },
          "metadata": {
            "needs_background": "light"
          },
          "output_type": "display_data"
        }
      ]
    },
    {
      "cell_type": "code",
      "metadata": {
        "id": "VjKm1Nf1CLfO"
      },
      "source": [
        "portfolio_val['daily returns'] = portfolio_val['total pos'].pct_change(1)"
      ],
      "execution_count": null,
      "outputs": []
    },
    {
      "cell_type": "code",
      "metadata": {
        "id": "dZgXjd2aCLfP",
        "outputId": "8b45500c-526c-4474-ed54-a7364b44d05c"
      },
      "source": [
        "portfolio_val"
      ],
      "execution_count": null,
      "outputs": [
        {
          "data": {
            "text/html": [
              "<div>\n",
              "<style scoped>\n",
              "    .dataframe tbody tr th:only-of-type {\n",
              "        vertical-align: middle;\n",
              "    }\n",
              "\n",
              "    .dataframe tbody tr th {\n",
              "        vertical-align: top;\n",
              "    }\n",
              "\n",
              "    .dataframe thead th {\n",
              "        text-align: right;\n",
              "    }\n",
              "</style>\n",
              "<table border=\"1\" class=\"dataframe\">\n",
              "  <thead>\n",
              "    <tr style=\"text-align: right;\">\n",
              "      <th></th>\n",
              "      <th>aapl pos</th>\n",
              "      <th>cisco pos</th>\n",
              "      <th>ibm pos</th>\n",
              "      <th>amzn pos</th>\n",
              "      <th>total pos</th>\n",
              "      <th>daily returns</th>\n",
              "    </tr>\n",
              "    <tr>\n",
              "      <th>Date</th>\n",
              "      <th></th>\n",
              "      <th></th>\n",
              "      <th></th>\n",
              "      <th></th>\n",
              "      <th></th>\n",
              "      <th></th>\n",
              "    </tr>\n",
              "  </thead>\n",
              "  <tbody>\n",
              "    <tr>\n",
              "      <th>2012-01-03</th>\n",
              "      <td>300000.000000</td>\n",
              "      <td>200000.000000</td>\n",
              "      <td>400000.000000</td>\n",
              "      <td>100000.000000</td>\n",
              "      <td>1.000000e+06</td>\n",
              "      <td>NaN</td>\n",
              "    </tr>\n",
              "    <tr>\n",
              "      <th>2012-01-04</th>\n",
              "      <td>301612.236461</td>\n",
              "      <td>203864.734300</td>\n",
              "      <td>398368.223296</td>\n",
              "      <td>99150.980283</td>\n",
              "      <td>1.002996e+06</td>\n",
              "      <td>0.002996</td>\n",
              "    </tr>\n",
              "    <tr>\n",
              "      <th>2012-01-05</th>\n",
              "      <td>304960.727573</td>\n",
              "      <td>203113.258186</td>\n",
              "      <td>396478.797638</td>\n",
              "      <td>99206.836843</td>\n",
              "      <td>1.003760e+06</td>\n",
              "      <td>0.000761</td>\n",
              "    </tr>\n",
              "    <tr>\n",
              "      <th>2012-01-06</th>\n",
              "      <td>308148.724558</td>\n",
              "      <td>202361.782072</td>\n",
              "      <td>391926.999463</td>\n",
              "      <td>101999.664861</td>\n",
              "      <td>1.004437e+06</td>\n",
              "      <td>0.000675</td>\n",
              "    </tr>\n",
              "    <tr>\n",
              "      <th>2012-01-09</th>\n",
              "      <td>307659.946988</td>\n",
              "      <td>203650.026838</td>\n",
              "      <td>389887.278583</td>\n",
              "      <td>99737.474166</td>\n",
              "      <td>1.000935e+06</td>\n",
              "      <td>-0.003487</td>\n",
              "    </tr>\n",
              "    <tr>\n",
              "      <th>...</th>\n",
              "      <td>...</td>\n",
              "      <td>...</td>\n",
              "      <td>...</td>\n",
              "      <td>...</td>\n",
              "      <td>...</td>\n",
              "      <td>...</td>\n",
              "    </tr>\n",
              "    <tr>\n",
              "      <th>2016-12-23</th>\n",
              "      <td>653264.617079</td>\n",
              "      <td>377469.015679</td>\n",
              "      <td>407359.955612</td>\n",
              "      <td>424839.412389</td>\n",
              "      <td>1.862933e+06</td>\n",
              "      <td>-0.001025</td>\n",
              "    </tr>\n",
              "    <tr>\n",
              "      <th>2016-12-27</th>\n",
              "      <td>657413.396830</td>\n",
              "      <td>379323.596496</td>\n",
              "      <td>408410.671112</td>\n",
              "      <td>430877.506563</td>\n",
              "      <td>1.876025e+06</td>\n",
              "      <td>0.007028</td>\n",
              "    </tr>\n",
              "    <tr>\n",
              "      <th>2016-12-28</th>\n",
              "      <td>654610.167268</td>\n",
              "      <td>376108.989746</td>\n",
              "      <td>406089.322915</td>\n",
              "      <td>431285.259454</td>\n",
              "      <td>1.868094e+06</td>\n",
              "      <td>-0.004228</td>\n",
              "    </tr>\n",
              "    <tr>\n",
              "      <th>2016-12-29</th>\n",
              "      <td>654441.973495</td>\n",
              "      <td>376603.544631</td>\n",
              "      <td>407091.167926</td>\n",
              "      <td>427386.471541</td>\n",
              "      <td>1.865523e+06</td>\n",
              "      <td>-0.001376</td>\n",
              "    </tr>\n",
              "    <tr>\n",
              "      <th>2016-12-30</th>\n",
              "      <td>649340.095692</td>\n",
              "      <td>373636.215323</td>\n",
              "      <td>405600.618032</td>\n",
              "      <td>418851.589119</td>\n",
              "      <td>1.847429e+06</td>\n",
              "      <td>-0.009699</td>\n",
              "    </tr>\n",
              "  </tbody>\n",
              "</table>\n",
              "<p>1258 rows × 6 columns</p>\n",
              "</div>"
            ],
            "text/plain": [
              "                 aapl pos      cisco pos        ibm pos       amzn pos  \\\n",
              "Date                                                                     \n",
              "2012-01-03  300000.000000  200000.000000  400000.000000  100000.000000   \n",
              "2012-01-04  301612.236461  203864.734300  398368.223296   99150.980283   \n",
              "2012-01-05  304960.727573  203113.258186  396478.797638   99206.836843   \n",
              "2012-01-06  308148.724558  202361.782072  391926.999463  101999.664861   \n",
              "2012-01-09  307659.946988  203650.026838  389887.278583   99737.474166   \n",
              "...                   ...            ...            ...            ...   \n",
              "2016-12-23  653264.617079  377469.015679  407359.955612  424839.412389   \n",
              "2016-12-27  657413.396830  379323.596496  408410.671112  430877.506563   \n",
              "2016-12-28  654610.167268  376108.989746  406089.322915  431285.259454   \n",
              "2016-12-29  654441.973495  376603.544631  407091.167926  427386.471541   \n",
              "2016-12-30  649340.095692  373636.215323  405600.618032  418851.589119   \n",
              "\n",
              "               total pos  daily returns  \n",
              "Date                                     \n",
              "2012-01-03  1.000000e+06            NaN  \n",
              "2012-01-04  1.002996e+06       0.002996  \n",
              "2012-01-05  1.003760e+06       0.000761  \n",
              "2012-01-06  1.004437e+06       0.000675  \n",
              "2012-01-09  1.000935e+06      -0.003487  \n",
              "...                  ...            ...  \n",
              "2016-12-23  1.862933e+06      -0.001025  \n",
              "2016-12-27  1.876025e+06       0.007028  \n",
              "2016-12-28  1.868094e+06      -0.004228  \n",
              "2016-12-29  1.865523e+06      -0.001376  \n",
              "2016-12-30  1.847429e+06      -0.009699  \n",
              "\n",
              "[1258 rows x 6 columns]"
            ]
          },
          "execution_count": 51,
          "metadata": {},
          "output_type": "execute_result"
        }
      ]
    },
    {
      "cell_type": "code",
      "metadata": {
        "id": "7twktiHACLfP",
        "outputId": "91972316-e057-43fc-88d0-cc7579c73c76"
      },
      "source": [
        "portfolio_val['daily returns'].plot(kind='hist',bins=100,figsize=(4,5))"
      ],
      "execution_count": null,
      "outputs": [
        {
          "data": {
            "text/plain": [
              "<matplotlib.axes._subplots.AxesSubplot at 0x7f82e1c82c70>"
            ]
          },
          "execution_count": 53,
          "metadata": {},
          "output_type": "execute_result"
        },
        {
          "data": {
            "image/png": "[encoded data removed]",
            "text/plain": [
              "<Figure size 288x360 with 1 Axes>"
            ]
          },
          "metadata": {
            "needs_background": "light"
          },
          "output_type": "display_data"
        }
      ]
    },
    {
      "cell_type": "code",
      "metadata": {
        "id": "ixOemn7gCLfP"
      },
      "source": [
        "sharpe_ratio = portfolio_val['daily returns'].mean()/portfolio_val['daily returns'].std()"
      ],
      "execution_count": null,
      "outputs": []
    },
    {
      "cell_type": "code",
      "metadata": {
        "id": "RreLX2m3CLfQ"
      },
      "source": [
        "annualised_sharpe_ratio = sharpe_ratio * (252**0.5)"
      ],
      "execution_count": null,
      "outputs": []
    },
    {
      "cell_type": "code",
      "metadata": {
        "id": "fGvI0xIECLfQ",
        "outputId": "664614b2-eec7-42ff-d008-bee8026cb901"
      },
      "source": [
        "annualised_sharpe_ratio"
      ],
      "execution_count": null,
      "outputs": [
        {
          "data": {
            "text/plain": [
              "0.817486461885909"
            ]
          },
          "execution_count": 57,
          "metadata": {},
          "output_type": "execute_result"
        }
      ]
    },
    {
      "cell_type": "code",
      "metadata": {
        "id": "kVgaL5DGCLfQ"
      },
      "source": [
        ""
      ],
      "execution_count": null,
      "outputs": []
    }
  ]
}