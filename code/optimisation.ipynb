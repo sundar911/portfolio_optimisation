{
  "nbformat": 4,
  "nbformat_minor": 0,
  "metadata": {
    "kernelspec": {
      "display_name": "Python 3",
      "language": "python",
      "name": "python3"
    },
    "language_info": {
      "codemirror_mode": {
        "name": "ipython",
        "version": 3
      },
      "file_extension": ".py",
      "mimetype": "text/x-python",
      "name": "python",
      "nbconvert_exporter": "python",
      "pygments_lexer": "ipython3",
      "version": "3.8.3"
    },
    "colab": {
      "name": "optimisation.ipynb",
      "provenance": [],
      "collapsed_sections": [],
      "include_colab_link": true
    }
  },
  "cells": [
    {
      "cell_type": "markdown",
      "metadata": {
        "id": "view-in-github",
        "colab_type": "text"
      },
      "source": [
        "<a href=\"https://colab.research.google.com/github/sundar911/portfolio_optimisation/blob/main/optimisation.ipynb\" target=\"_parent\"><img src=\"https://colab.research.google.com/assets/colab-badge.svg\" alt=\"Open In Colab\"/></a>"
      ]
    },
    {
      "cell_type": "code",
      "metadata": {
        "id": "PIVhgshQCeHX"
      },
      "source": [
        "import numpy as np\n",
        "import pandas as pd\n",
        "import matplotlib.pyplot as plt\n",
        "%matplotlib inline"
      ],
      "execution_count": null,
      "outputs": []
    },
    {
      "cell_type": "code",
      "metadata": {
        "id": "rowM_x30CeHk"
      },
      "source": [
        "aapl = pd.read_csv('AAPL_CLOSE',index_col='Date',parse_dates=True)"
      ],
      "execution_count": null,
      "outputs": []
    },
    {
      "cell_type": "code",
      "metadata": {
        "id": "vX1Ihla6CeHm"
      },
      "source": [
        "cisco = pd.read_csv('CISCO_CLOSE',index_col='Date',parse_dates=True)\n",
        "ibm = pd.read_csv('IBM_CLOSE',index_col='Date',parse_dates=True)\n",
        "amzn = pd.read_csv('AMZN_CLOSE',index_col='Date',parse_dates=True)"
      ],
      "execution_count": null,
      "outputs": []
    },
    {
      "cell_type": "code",
      "metadata": {
        "id": "o3u_SzvTCeHn"
      },
      "source": [
        "stocks = pd.concat([aapl,cisco,ibm,amzn],axis=1)"
      ],
      "execution_count": null,
      "outputs": []
    },
    {
      "cell_type": "code",
      "metadata": {
        "id": "UaLA_iPHCeHo"
      },
      "source": [
        "stocks.columns = ['aapl','cisco','ibm','amzn']"
      ],
      "execution_count": null,
      "outputs": []
    },
    {
      "cell_type": "code",
      "metadata": {
        "id": "wR4BCsKbCeHp",
        "outputId": "66308bce-1c1b-4b1a-a957-6cb9f8823727"
      },
      "source": [
        "stocks"
      ],
      "execution_count": null,
      "outputs": [
        {
          "data": {
            "text/html": [
              "<div>\n",
              "<style scoped>\n",
              "    .dataframe tbody tr th:only-of-type {\n",
              "        vertical-align: middle;\n",
              "    }\n",
              "\n",
              "    .dataframe tbody tr th {\n",
              "        vertical-align: top;\n",
              "    }\n",
              "\n",
              "    .dataframe thead th {\n",
              "        text-align: right;\n",
              "    }\n",
              "</style>\n",
              "<table border=\"1\" class=\"dataframe\">\n",
              "  <thead>\n",
              "    <tr style=\"text-align: right;\">\n",
              "      <th></th>\n",
              "      <th>aapl</th>\n",
              "      <th>cisco</th>\n",
              "      <th>ibm</th>\n",
              "      <th>amzn</th>\n",
              "    </tr>\n",
              "    <tr>\n",
              "      <th>Date</th>\n",
              "      <th></th>\n",
              "      <th></th>\n",
              "      <th></th>\n",
              "      <th></th>\n",
              "    </tr>\n",
              "  </thead>\n",
              "  <tbody>\n",
              "    <tr>\n",
              "      <th>2012-01-03</th>\n",
              "      <td>53.063218</td>\n",
              "      <td>15.752778</td>\n",
              "      <td>160.830881</td>\n",
              "      <td>179.03</td>\n",
              "    </tr>\n",
              "    <tr>\n",
              "      <th>2012-01-04</th>\n",
              "      <td>53.348386</td>\n",
              "      <td>16.057180</td>\n",
              "      <td>160.174781</td>\n",
              "      <td>177.51</td>\n",
              "    </tr>\n",
              "    <tr>\n",
              "      <th>2012-01-05</th>\n",
              "      <td>53.940658</td>\n",
              "      <td>15.997991</td>\n",
              "      <td>159.415086</td>\n",
              "      <td>177.61</td>\n",
              "    </tr>\n",
              "    <tr>\n",
              "      <th>2012-01-06</th>\n",
              "      <td>54.504543</td>\n",
              "      <td>15.938801</td>\n",
              "      <td>157.584912</td>\n",
              "      <td>182.61</td>\n",
              "    </tr>\n",
              "    <tr>\n",
              "      <th>2012-01-09</th>\n",
              "      <td>54.418089</td>\n",
              "      <td>16.040268</td>\n",
              "      <td>156.764786</td>\n",
              "      <td>178.56</td>\n",
              "    </tr>\n",
              "    <tr>\n",
              "      <th>...</th>\n",
              "      <td>...</td>\n",
              "      <td>...</td>\n",
              "      <td>...</td>\n",
              "      <td>...</td>\n",
              "    </tr>\n",
              "    <tr>\n",
              "      <th>2016-12-23</th>\n",
              "      <td>115.547742</td>\n",
              "      <td>29.730928</td>\n",
              "      <td>163.790152</td>\n",
              "      <td>760.59</td>\n",
              "    </tr>\n",
              "    <tr>\n",
              "      <th>2016-12-27</th>\n",
              "      <td>116.281568</td>\n",
              "      <td>29.877002</td>\n",
              "      <td>164.212620</td>\n",
              "      <td>771.40</td>\n",
              "    </tr>\n",
              "    <tr>\n",
              "      <th>2016-12-28</th>\n",
              "      <td>115.785740</td>\n",
              "      <td>29.623807</td>\n",
              "      <td>163.279259</td>\n",
              "      <td>772.13</td>\n",
              "    </tr>\n",
              "    <tr>\n",
              "      <th>2016-12-29</th>\n",
              "      <td>115.755990</td>\n",
              "      <td>29.662760</td>\n",
              "      <td>163.682078</td>\n",
              "      <td>765.15</td>\n",
              "    </tr>\n",
              "    <tr>\n",
              "      <th>2016-12-30</th>\n",
              "      <td>114.853583</td>\n",
              "      <td>29.429042</td>\n",
              "      <td>163.082762</td>\n",
              "      <td>749.87</td>\n",
              "    </tr>\n",
              "  </tbody>\n",
              "</table>\n",
              "<p>1258 rows × 4 columns</p>\n",
              "</div>"
            ],
            "text/plain": [
              "                  aapl      cisco         ibm    amzn\n",
              "Date                                                 \n",
              "2012-01-03   53.063218  15.752778  160.830881  179.03\n",
              "2012-01-04   53.348386  16.057180  160.174781  177.51\n",
              "2012-01-05   53.940658  15.997991  159.415086  177.61\n",
              "2012-01-06   54.504543  15.938801  157.584912  182.61\n",
              "2012-01-09   54.418089  16.040268  156.764786  178.56\n",
              "...                ...        ...         ...     ...\n",
              "2016-12-23  115.547742  29.730928  163.790152  760.59\n",
              "2016-12-27  116.281568  29.877002  164.212620  771.40\n",
              "2016-12-28  115.785740  29.623807  163.279259  772.13\n",
              "2016-12-29  115.755990  29.662760  163.682078  765.15\n",
              "2016-12-30  114.853583  29.429042  163.082762  749.87\n",
              "\n",
              "[1258 rows x 4 columns]"
            ]
          },
          "execution_count": 17,
          "metadata": {},
          "output_type": "execute_result"
        }
      ]
    },
    {
      "cell_type": "code",
      "metadata": {
        "id": "DLZ9tNJbCeHs",
        "outputId": "e0259188-6c5f-4001-a4ce-c540413b9bd5"
      },
      "source": [
        "stocks.shift(1)"
      ],
      "execution_count": null,
      "outputs": [
        {
          "data": {
            "text/html": [
              "<div>\n",
              "<style scoped>\n",
              "    .dataframe tbody tr th:only-of-type {\n",
              "        vertical-align: middle;\n",
              "    }\n",
              "\n",
              "    .dataframe tbody tr th {\n",
              "        vertical-align: top;\n",
              "    }\n",
              "\n",
              "    .dataframe thead th {\n",
              "        text-align: right;\n",
              "    }\n",
              "</style>\n",
              "<table border=\"1\" class=\"dataframe\">\n",
              "  <thead>\n",
              "    <tr style=\"text-align: right;\">\n",
              "      <th></th>\n",
              "      <th>aapl</th>\n",
              "      <th>cisco</th>\n",
              "      <th>ibm</th>\n",
              "      <th>amzn</th>\n",
              "    </tr>\n",
              "    <tr>\n",
              "      <th>Date</th>\n",
              "      <th></th>\n",
              "      <th></th>\n",
              "      <th></th>\n",
              "      <th></th>\n",
              "    </tr>\n",
              "  </thead>\n",
              "  <tbody>\n",
              "    <tr>\n",
              "      <th>2012-01-03</th>\n",
              "      <td>NaN</td>\n",
              "      <td>NaN</td>\n",
              "      <td>NaN</td>\n",
              "      <td>NaN</td>\n",
              "    </tr>\n",
              "    <tr>\n",
              "      <th>2012-01-04</th>\n",
              "      <td>53.063218</td>\n",
              "      <td>15.752778</td>\n",
              "      <td>160.830881</td>\n",
              "      <td>179.03</td>\n",
              "    </tr>\n",
              "    <tr>\n",
              "      <th>2012-01-05</th>\n",
              "      <td>53.348386</td>\n",
              "      <td>16.057180</td>\n",
              "      <td>160.174781</td>\n",
              "      <td>177.51</td>\n",
              "    </tr>\n",
              "    <tr>\n",
              "      <th>2012-01-06</th>\n",
              "      <td>53.940658</td>\n",
              "      <td>15.997991</td>\n",
              "      <td>159.415086</td>\n",
              "      <td>177.61</td>\n",
              "    </tr>\n",
              "    <tr>\n",
              "      <th>2012-01-09</th>\n",
              "      <td>54.504543</td>\n",
              "      <td>15.938801</td>\n",
              "      <td>157.584912</td>\n",
              "      <td>182.61</td>\n",
              "    </tr>\n",
              "    <tr>\n",
              "      <th>...</th>\n",
              "      <td>...</td>\n",
              "      <td>...</td>\n",
              "      <td>...</td>\n",
              "      <td>...</td>\n",
              "    </tr>\n",
              "    <tr>\n",
              "      <th>2016-12-23</th>\n",
              "      <td>115.319661</td>\n",
              "      <td>29.662760</td>\n",
              "      <td>164.134021</td>\n",
              "      <td>766.34</td>\n",
              "    </tr>\n",
              "    <tr>\n",
              "      <th>2016-12-27</th>\n",
              "      <td>115.547742</td>\n",
              "      <td>29.730928</td>\n",
              "      <td>163.790152</td>\n",
              "      <td>760.59</td>\n",
              "    </tr>\n",
              "    <tr>\n",
              "      <th>2016-12-28</th>\n",
              "      <td>116.281568</td>\n",
              "      <td>29.877002</td>\n",
              "      <td>164.212620</td>\n",
              "      <td>771.40</td>\n",
              "    </tr>\n",
              "    <tr>\n",
              "      <th>2016-12-29</th>\n",
              "      <td>115.785740</td>\n",
              "      <td>29.623807</td>\n",
              "      <td>163.279259</td>\n",
              "      <td>772.13</td>\n",
              "    </tr>\n",
              "    <tr>\n",
              "      <th>2016-12-30</th>\n",
              "      <td>115.755990</td>\n",
              "      <td>29.662760</td>\n",
              "      <td>163.682078</td>\n",
              "      <td>765.15</td>\n",
              "    </tr>\n",
              "  </tbody>\n",
              "</table>\n",
              "<p>1258 rows × 4 columns</p>\n",
              "</div>"
            ],
            "text/plain": [
              "                  aapl      cisco         ibm    amzn\n",
              "Date                                                 \n",
              "2012-01-03         NaN        NaN         NaN     NaN\n",
              "2012-01-04   53.063218  15.752778  160.830881  179.03\n",
              "2012-01-05   53.348386  16.057180  160.174781  177.51\n",
              "2012-01-06   53.940658  15.997991  159.415086  177.61\n",
              "2012-01-09   54.504543  15.938801  157.584912  182.61\n",
              "...                ...        ...         ...     ...\n",
              "2016-12-23  115.319661  29.662760  164.134021  766.34\n",
              "2016-12-27  115.547742  29.730928  163.790152  760.59\n",
              "2016-12-28  116.281568  29.877002  164.212620  771.40\n",
              "2016-12-29  115.785740  29.623807  163.279259  772.13\n",
              "2016-12-30  115.755990  29.662760  163.682078  765.15\n",
              "\n",
              "[1258 rows x 4 columns]"
            ]
          },
          "execution_count": 18,
          "metadata": {},
          "output_type": "execute_result"
        }
      ]
    },
    {
      "cell_type": "code",
      "metadata": {
        "id": "n8tJT2c-CeHu",
        "outputId": "4503681f-4e79-4860-9580-9db0f26f8c7e"
      },
      "source": [
        "stocks"
      ],
      "execution_count": null,
      "outputs": [
        {
          "data": {
            "text/html": [
              "<div>\n",
              "<style scoped>\n",
              "    .dataframe tbody tr th:only-of-type {\n",
              "        vertical-align: middle;\n",
              "    }\n",
              "\n",
              "    .dataframe tbody tr th {\n",
              "        vertical-align: top;\n",
              "    }\n",
              "\n",
              "    .dataframe thead th {\n",
              "        text-align: right;\n",
              "    }\n",
              "</style>\n",
              "<table border=\"1\" class=\"dataframe\">\n",
              "  <thead>\n",
              "    <tr style=\"text-align: right;\">\n",
              "      <th></th>\n",
              "      <th>aapl</th>\n",
              "      <th>cisco</th>\n",
              "      <th>ibm</th>\n",
              "      <th>amzn</th>\n",
              "    </tr>\n",
              "    <tr>\n",
              "      <th>Date</th>\n",
              "      <th></th>\n",
              "      <th></th>\n",
              "      <th></th>\n",
              "      <th></th>\n",
              "    </tr>\n",
              "  </thead>\n",
              "  <tbody>\n",
              "    <tr>\n",
              "      <th>2012-01-03</th>\n",
              "      <td>53.063218</td>\n",
              "      <td>15.752778</td>\n",
              "      <td>160.830881</td>\n",
              "      <td>179.03</td>\n",
              "    </tr>\n",
              "    <tr>\n",
              "      <th>2012-01-04</th>\n",
              "      <td>53.348386</td>\n",
              "      <td>16.057180</td>\n",
              "      <td>160.174781</td>\n",
              "      <td>177.51</td>\n",
              "    </tr>\n",
              "    <tr>\n",
              "      <th>2012-01-05</th>\n",
              "      <td>53.940658</td>\n",
              "      <td>15.997991</td>\n",
              "      <td>159.415086</td>\n",
              "      <td>177.61</td>\n",
              "    </tr>\n",
              "    <tr>\n",
              "      <th>2012-01-06</th>\n",
              "      <td>54.504543</td>\n",
              "      <td>15.938801</td>\n",
              "      <td>157.584912</td>\n",
              "      <td>182.61</td>\n",
              "    </tr>\n",
              "    <tr>\n",
              "      <th>2012-01-09</th>\n",
              "      <td>54.418089</td>\n",
              "      <td>16.040268</td>\n",
              "      <td>156.764786</td>\n",
              "      <td>178.56</td>\n",
              "    </tr>\n",
              "    <tr>\n",
              "      <th>...</th>\n",
              "      <td>...</td>\n",
              "      <td>...</td>\n",
              "      <td>...</td>\n",
              "      <td>...</td>\n",
              "    </tr>\n",
              "    <tr>\n",
              "      <th>2016-12-23</th>\n",
              "      <td>115.547742</td>\n",
              "      <td>29.730928</td>\n",
              "      <td>163.790152</td>\n",
              "      <td>760.59</td>\n",
              "    </tr>\n",
              "    <tr>\n",
              "      <th>2016-12-27</th>\n",
              "      <td>116.281568</td>\n",
              "      <td>29.877002</td>\n",
              "      <td>164.212620</td>\n",
              "      <td>771.40</td>\n",
              "    </tr>\n",
              "    <tr>\n",
              "      <th>2016-12-28</th>\n",
              "      <td>115.785740</td>\n",
              "      <td>29.623807</td>\n",
              "      <td>163.279259</td>\n",
              "      <td>772.13</td>\n",
              "    </tr>\n",
              "    <tr>\n",
              "      <th>2016-12-29</th>\n",
              "      <td>115.755990</td>\n",
              "      <td>29.662760</td>\n",
              "      <td>163.682078</td>\n",
              "      <td>765.15</td>\n",
              "    </tr>\n",
              "    <tr>\n",
              "      <th>2016-12-30</th>\n",
              "      <td>114.853583</td>\n",
              "      <td>29.429042</td>\n",
              "      <td>163.082762</td>\n",
              "      <td>749.87</td>\n",
              "    </tr>\n",
              "  </tbody>\n",
              "</table>\n",
              "<p>1258 rows × 4 columns</p>\n",
              "</div>"
            ],
            "text/plain": [
              "                  aapl      cisco         ibm    amzn\n",
              "Date                                                 \n",
              "2012-01-03   53.063218  15.752778  160.830881  179.03\n",
              "2012-01-04   53.348386  16.057180  160.174781  177.51\n",
              "2012-01-05   53.940658  15.997991  159.415086  177.61\n",
              "2012-01-06   54.504543  15.938801  157.584912  182.61\n",
              "2012-01-09   54.418089  16.040268  156.764786  178.56\n",
              "...                ...        ...         ...     ...\n",
              "2016-12-23  115.547742  29.730928  163.790152  760.59\n",
              "2016-12-27  116.281568  29.877002  164.212620  771.40\n",
              "2016-12-28  115.785740  29.623807  163.279259  772.13\n",
              "2016-12-29  115.755990  29.662760  163.682078  765.15\n",
              "2016-12-30  114.853583  29.429042  163.082762  749.87\n",
              "\n",
              "[1258 rows x 4 columns]"
            ]
          },
          "execution_count": 19,
          "metadata": {},
          "output_type": "execute_result"
        }
      ]
    },
    {
      "cell_type": "code",
      "metadata": {
        "id": "_2Rbdm0ZCeHw",
        "outputId": "e9e7334b-94b8-4767-c8f1-d2b64e118b41"
      },
      "source": [
        "stocks_daily_ret = stocks.pct_change(1).mean()\n",
        "stocks_daily_ret"
      ],
      "execution_count": null,
      "outputs": [
        {
          "data": {
            "text/plain": [
              "aapl     0.000750\n",
              "cisco    0.000599\n",
              "ibm      0.000081\n",
              "amzn     0.001328\n",
              "dtype: float64"
            ]
          },
          "execution_count": 20,
          "metadata": {},
          "output_type": "execute_result"
        }
      ]
    },
    {
      "cell_type": "code",
      "metadata": {
        "id": "fF9BaG9HCeH0",
        "outputId": "ddb336e5-7fa2-4120-92df-05e48500aa02"
      },
      "source": [
        "stocks.pct_change(1).corr() #correlation"
      ],
      "execution_count": null,
      "outputs": [
        {
          "data": {
            "text/html": [
              "<div>\n",
              "<style scoped>\n",
              "    .dataframe tbody tr th:only-of-type {\n",
              "        vertical-align: middle;\n",
              "    }\n",
              "\n",
              "    .dataframe tbody tr th {\n",
              "        vertical-align: top;\n",
              "    }\n",
              "\n",
              "    .dataframe thead th {\n",
              "        text-align: right;\n",
              "    }\n",
              "</style>\n",
              "<table border=\"1\" class=\"dataframe\">\n",
              "  <thead>\n",
              "    <tr style=\"text-align: right;\">\n",
              "      <th></th>\n",
              "      <th>aapl</th>\n",
              "      <th>cisco</th>\n",
              "      <th>ibm</th>\n",
              "      <th>amzn</th>\n",
              "    </tr>\n",
              "  </thead>\n",
              "  <tbody>\n",
              "    <tr>\n",
              "      <th>aapl</th>\n",
              "      <td>1.000000</td>\n",
              "      <td>0.301990</td>\n",
              "      <td>0.297498</td>\n",
              "      <td>0.235487</td>\n",
              "    </tr>\n",
              "    <tr>\n",
              "      <th>cisco</th>\n",
              "      <td>0.301990</td>\n",
              "      <td>1.000000</td>\n",
              "      <td>0.424672</td>\n",
              "      <td>0.284470</td>\n",
              "    </tr>\n",
              "    <tr>\n",
              "      <th>ibm</th>\n",
              "      <td>0.297498</td>\n",
              "      <td>0.424672</td>\n",
              "      <td>1.000000</td>\n",
              "      <td>0.258492</td>\n",
              "    </tr>\n",
              "    <tr>\n",
              "      <th>amzn</th>\n",
              "      <td>0.235487</td>\n",
              "      <td>0.284470</td>\n",
              "      <td>0.258492</td>\n",
              "      <td>1.000000</td>\n",
              "    </tr>\n",
              "  </tbody>\n",
              "</table>\n",
              "</div>"
            ],
            "text/plain": [
              "           aapl     cisco       ibm      amzn\n",
              "aapl   1.000000  0.301990  0.297498  0.235487\n",
              "cisco  0.301990  1.000000  0.424672  0.284470\n",
              "ibm    0.297498  0.424672  1.000000  0.258492\n",
              "amzn   0.235487  0.284470  0.258492  1.000000"
            ]
          },
          "execution_count": 21,
          "metadata": {},
          "output_type": "execute_result"
        }
      ]
    },
    {
      "cell_type": "code",
      "metadata": {
        "id": "WY0mk833CeH1",
        "outputId": "d82f6570-0975-42db-ba27-d21caa6f8a92"
      },
      "source": [
        "log_ret = np.log(stocks/stocks.shift(1)) #log returns\n",
        "log_ret"
      ],
      "execution_count": null,
      "outputs": [
        {
          "data": {
            "text/html": [
              "<div>\n",
              "<style scoped>\n",
              "    .dataframe tbody tr th:only-of-type {\n",
              "        vertical-align: middle;\n",
              "    }\n",
              "\n",
              "    .dataframe tbody tr th {\n",
              "        vertical-align: top;\n",
              "    }\n",
              "\n",
              "    .dataframe thead th {\n",
              "        text-align: right;\n",
              "    }\n",
              "</style>\n",
              "<table border=\"1\" class=\"dataframe\">\n",
              "  <thead>\n",
              "    <tr style=\"text-align: right;\">\n",
              "      <th></th>\n",
              "      <th>aapl</th>\n",
              "      <th>cisco</th>\n",
              "      <th>ibm</th>\n",
              "      <th>amzn</th>\n",
              "    </tr>\n",
              "    <tr>\n",
              "      <th>Date</th>\n",
              "      <th></th>\n",
              "      <th></th>\n",
              "      <th></th>\n",
              "      <th></th>\n",
              "    </tr>\n",
              "  </thead>\n",
              "  <tbody>\n",
              "    <tr>\n",
              "      <th>2012-01-03</th>\n",
              "      <td>NaN</td>\n",
              "      <td>NaN</td>\n",
              "      <td>NaN</td>\n",
              "      <td>NaN</td>\n",
              "    </tr>\n",
              "    <tr>\n",
              "      <th>2012-01-04</th>\n",
              "      <td>0.005360</td>\n",
              "      <td>0.019139</td>\n",
              "      <td>-0.004088</td>\n",
              "      <td>-0.008526</td>\n",
              "    </tr>\n",
              "    <tr>\n",
              "      <th>2012-01-05</th>\n",
              "      <td>0.011041</td>\n",
              "      <td>-0.003693</td>\n",
              "      <td>-0.004754</td>\n",
              "      <td>0.000563</td>\n",
              "    </tr>\n",
              "    <tr>\n",
              "      <th>2012-01-06</th>\n",
              "      <td>0.010400</td>\n",
              "      <td>-0.003707</td>\n",
              "      <td>-0.011547</td>\n",
              "      <td>0.027763</td>\n",
              "    </tr>\n",
              "    <tr>\n",
              "      <th>2012-01-09</th>\n",
              "      <td>-0.001587</td>\n",
              "      <td>0.006346</td>\n",
              "      <td>-0.005218</td>\n",
              "      <td>-0.022428</td>\n",
              "    </tr>\n",
              "    <tr>\n",
              "      <th>...</th>\n",
              "      <td>...</td>\n",
              "      <td>...</td>\n",
              "      <td>...</td>\n",
              "      <td>...</td>\n",
              "    </tr>\n",
              "    <tr>\n",
              "      <th>2016-12-23</th>\n",
              "      <td>0.001976</td>\n",
              "      <td>0.002295</td>\n",
              "      <td>-0.002097</td>\n",
              "      <td>-0.007531</td>\n",
              "    </tr>\n",
              "    <tr>\n",
              "      <th>2016-12-27</th>\n",
              "      <td>0.006331</td>\n",
              "      <td>0.004901</td>\n",
              "      <td>0.002576</td>\n",
              "      <td>0.014113</td>\n",
              "    </tr>\n",
              "    <tr>\n",
              "      <th>2016-12-28</th>\n",
              "      <td>-0.004273</td>\n",
              "      <td>-0.008511</td>\n",
              "      <td>-0.005700</td>\n",
              "      <td>0.000946</td>\n",
              "    </tr>\n",
              "    <tr>\n",
              "      <th>2016-12-29</th>\n",
              "      <td>-0.000257</td>\n",
              "      <td>0.001314</td>\n",
              "      <td>0.002464</td>\n",
              "      <td>-0.009081</td>\n",
              "    </tr>\n",
              "    <tr>\n",
              "      <th>2016-12-30</th>\n",
              "      <td>-0.007826</td>\n",
              "      <td>-0.007910</td>\n",
              "      <td>-0.003668</td>\n",
              "      <td>-0.020172</td>\n",
              "    </tr>\n",
              "  </tbody>\n",
              "</table>\n",
              "<p>1258 rows × 4 columns</p>\n",
              "</div>"
            ],
            "text/plain": [
              "                aapl     cisco       ibm      amzn\n",
              "Date                                              \n",
              "2012-01-03       NaN       NaN       NaN       NaN\n",
              "2012-01-04  0.005360  0.019139 -0.004088 -0.008526\n",
              "2012-01-05  0.011041 -0.003693 -0.004754  0.000563\n",
              "2012-01-06  0.010400 -0.003707 -0.011547  0.027763\n",
              "2012-01-09 -0.001587  0.006346 -0.005218 -0.022428\n",
              "...              ...       ...       ...       ...\n",
              "2016-12-23  0.001976  0.002295 -0.002097 -0.007531\n",
              "2016-12-27  0.006331  0.004901  0.002576  0.014113\n",
              "2016-12-28 -0.004273 -0.008511 -0.005700  0.000946\n",
              "2016-12-29 -0.000257  0.001314  0.002464 -0.009081\n",
              "2016-12-30 -0.007826 -0.007910 -0.003668 -0.020172\n",
              "\n",
              "[1258 rows x 4 columns]"
            ]
          },
          "execution_count": 22,
          "metadata": {},
          "output_type": "execute_result"
        }
      ]
    },
    {
      "cell_type": "code",
      "metadata": {
        "id": "rPKQ-M8MCeH2",
        "outputId": "147e2304-9d9f-42f0-ecb7-74cd20487f2b"
      },
      "source": [
        "fig,axes = plt.subplots(nrows=2,ncols=2,figsize=(10,7))\n",
        "axes[0,0].hist(log_ret['aapl'],bins=100,alpha=1)\n",
        "axes[1,0].hist(log_ret['cisco'],bins=100,alpha=1)\n",
        "axes[0,1].hist(log_ret['ibm'],bins=100,alpha=1)\n",
        "axes[1,1].hist(log_ret['amzn'],bins=100,alpha=1)\n",
        "plt.tight_layout()"
      ],
      "execution_count": null,
      "outputs": [
        {
          "name": "stderr",
          "output_type": "stream",
          "text": [
            "/Users/sundarraghavanl/opt/anaconda2/envs/pyfinance/lib/python3.8/site-packages/numpy/lib/histograms.py:839: RuntimeWarning: invalid value encountered in greater_equal\n",
            "  keep = (tmp_a >= first_edge)\n",
            "/Users/sundarraghavanl/opt/anaconda2/envs/pyfinance/lib/python3.8/site-packages/numpy/lib/histograms.py:840: RuntimeWarning: invalid value encountered in less_equal\n",
            "  keep &= (tmp_a <= last_edge)\n"
          ]
        },
        {
          "data": {
            "image/png": "[encoded data removed]",
            "text/plain": [
              "<Figure size 720x504 with 4 Axes>"
            ]
          },
          "metadata": {
            "needs_background": "light"
          },
          "output_type": "display_data"
        }
      ]
    },
    {
      "cell_type": "code",
      "metadata": {
        "id": "68zIX3dRCeH3",
        "outputId": "bf3b160a-6346-49a2-f002-db53df214cc5"
      },
      "source": [
        "log_ret.mean()"
      ],
      "execution_count": null,
      "outputs": [
        {
          "data": {
            "text/plain": [
              "aapl     0.000614\n",
              "cisco    0.000497\n",
              "ibm      0.000011\n",
              "amzn     0.001139\n",
              "dtype: float64"
            ]
          },
          "execution_count": 24,
          "metadata": {},
          "output_type": "execute_result"
        }
      ]
    },
    {
      "cell_type": "code",
      "metadata": {
        "id": "y3smEvWfCeH4",
        "outputId": "9679ca21-f726-4099-b4ff-30bc9e2dd7f0"
      },
      "source": [
        "log_ret.cov() * 252 #cov=covariance"
      ],
      "execution_count": null,
      "outputs": [
        {
          "data": {
            "text/html": [
              "<div>\n",
              "<style scoped>\n",
              "    .dataframe tbody tr th:only-of-type {\n",
              "        vertical-align: middle;\n",
              "    }\n",
              "\n",
              "    .dataframe tbody tr th {\n",
              "        vertical-align: top;\n",
              "    }\n",
              "\n",
              "    .dataframe thead th {\n",
              "        text-align: right;\n",
              "    }\n",
              "</style>\n",
              "<table border=\"1\" class=\"dataframe\">\n",
              "  <thead>\n",
              "    <tr style=\"text-align: right;\">\n",
              "      <th></th>\n",
              "      <th>aapl</th>\n",
              "      <th>cisco</th>\n",
              "      <th>ibm</th>\n",
              "      <th>amzn</th>\n",
              "    </tr>\n",
              "  </thead>\n",
              "  <tbody>\n",
              "    <tr>\n",
              "      <th>aapl</th>\n",
              "      <td>0.068326</td>\n",
              "      <td>0.017854</td>\n",
              "      <td>0.014464</td>\n",
              "      <td>0.018986</td>\n",
              "    </tr>\n",
              "    <tr>\n",
              "      <th>cisco</th>\n",
              "      <td>0.017854</td>\n",
              "      <td>0.051381</td>\n",
              "      <td>0.018029</td>\n",
              "      <td>0.019956</td>\n",
              "    </tr>\n",
              "    <tr>\n",
              "      <th>ibm</th>\n",
              "      <td>0.014464</td>\n",
              "      <td>0.018029</td>\n",
              "      <td>0.035203</td>\n",
              "      <td>0.014939</td>\n",
              "    </tr>\n",
              "    <tr>\n",
              "      <th>amzn</th>\n",
              "      <td>0.018986</td>\n",
              "      <td>0.019956</td>\n",
              "      <td>0.014939</td>\n",
              "      <td>0.094470</td>\n",
              "    </tr>\n",
              "  </tbody>\n",
              "</table>\n",
              "</div>"
            ],
            "text/plain": [
              "           aapl     cisco       ibm      amzn\n",
              "aapl   0.068326  0.017854  0.014464  0.018986\n",
              "cisco  0.017854  0.051381  0.018029  0.019956\n",
              "ibm    0.014464  0.018029  0.035203  0.014939\n",
              "amzn   0.018986  0.019956  0.014939  0.094470"
            ]
          },
          "execution_count": 25,
          "metadata": {},
          "output_type": "execute_result"
        }
      ]
    },
    {
      "cell_type": "markdown",
      "metadata": {
        "id": "-sJCChlcEmko"
      },
      "source": [
        "## Trial and error"
      ]
    },
    {
      "cell_type": "markdown",
      "metadata": {
        "id": "xUoD0SyyEsPo"
      },
      "source": [
        "initialising random weights and checking returns "
      ]
    },
    {
      "cell_type": "code",
      "metadata": {
        "id": "deiYP1GmCeH5",
        "outputId": "ded947a7-bedb-43a0-a8c9-7db5d8c96f48"
      },
      "source": [
        "np.random.seed(101)\n",
        "weights = np.array(np.random.random(4))\n",
        "weights = weights/np.sum(weights) #to make sum=1\n",
        "print('weights')\n",
        "weights"
      ],
      "execution_count": null,
      "outputs": [
        {
          "name": "stdout",
          "output_type": "stream",
          "text": [
            "weights\n"
          ]
        },
        {
          "data": {
            "text/plain": [
              "array([0.40122278, 0.44338777, 0.02212343, 0.13326603])"
            ]
          },
          "execution_count": 26,
          "metadata": {},
          "output_type": "execute_result"
        }
      ]
    },
    {
      "cell_type": "code",
      "metadata": {
        "id": "CKDsYTv1CeH6",
        "outputId": "9fa60990-c9bb-4197-935f-a145db035b77"
      },
      "source": [
        "exp_ret = sum((log_ret.mean()*weights)*252) #= expected annual returns = mean of daily log returns * respective weights * no of trading days \n",
        "print('expected returns')\n",
        "exp_ret"
      ],
      "execution_count": null,
      "outputs": [
        {
          "name": "stdout",
          "output_type": "stream",
          "text": [
            "expected returns\n"
          ]
        },
        {
          "data": {
            "text/plain": [
              "0.15599272049632004"
            ]
          },
          "execution_count": 27,
          "metadata": {},
          "output_type": "execute_result"
        }
      ]
    },
    {
      "cell_type": "code",
      "metadata": {
        "id": "47KtMjUpCeH7",
        "outputId": "350e156b-8b44-4fbd-d6b0-cfaf7b08033d"
      },
      "source": [
        "exp_vol = np.sqrt(np.dot(weights.T,np.dot(log_ret.cov()*252,weights)))\n",
        "print('expected volatility')\n",
        "exp_vol"
      ],
      "execution_count": null,
      "outputs": [
        {
          "name": "stdout",
          "output_type": "stream",
          "text": [
            "expected volatility\n"
          ]
        },
        {
          "data": {
            "text/plain": [
              "0.18502649565909488"
            ]
          },
          "execution_count": 28,
          "metadata": {},
          "output_type": "execute_result"
        }
      ]
    },
    {
      "cell_type": "code",
      "metadata": {
        "id": "QUGh4ntLCeH7"
      },
      "source": [
        "sr = exp_ret/exp_vol"
      ],
      "execution_count": null,
      "outputs": []
    },
    {
      "cell_type": "code",
      "metadata": {
        "id": "SzangymRCeH8",
        "outputId": "024672bf-9b7b-4e71-c360-7d4bb9955d67"
      },
      "source": [
        "print('sharpe ratio')\n",
        "sr"
      ],
      "execution_count": null,
      "outputs": [
        {
          "name": "stdout",
          "output_type": "stream",
          "text": [
            "sharpe ratio\n"
          ]
        },
        {
          "data": {
            "text/plain": [
              "0.8430831483926032"
            ]
          },
          "execution_count": 30,
          "metadata": {},
          "output_type": "execute_result"
        }
      ]
    },
    {
      "cell_type": "markdown",
      "metadata": {
        "id": "KaPSBLGfE6Iw"
      },
      "source": [
        "repeating the above process 5000 times over and taking the best result"
      ]
    },
    {
      "cell_type": "code",
      "metadata": {
        "id": "ZL13qzyzCeH8"
      },
      "source": [
        "num_ports = 5000\n",
        "all_weights = np.zeros((num_ports,len(stocks.columns)))\n",
        "ret_arr = np.zeros(num_ports)\n",
        "vol_arr = np.zeros(num_ports)\n",
        "sharpe_arr = np.zeros(num_ports)\n",
        "\n",
        "for ind in range(num_ports):\n",
        "    \n",
        "    weights = np.array(np.random.random(4))\n",
        "    weights = weights/np.sum(weights)\n",
        "    all_weights[ind,:] = weights\n",
        "    \n",
        "    ret_arr[ind] = np.sum((log_ret.mean()*weights)*252)\n",
        "    \n",
        "    vol_arr[ind] = np.sqrt(np.dot(weights.T,np.dot(log_ret.cov()*252,weights)))\n",
        "    \n",
        "    sharpe_arr[ind] = ret_arr[ind]/vol_arr[ind]"
      ],
      "execution_count": null,
      "outputs": []
    },
    {
      "cell_type": "code",
      "metadata": {
        "id": "gZnz9Nq7CeH9",
        "outputId": "7dcfbab2-67a1-47c4-8975-69679cf63a2b"
      },
      "source": [
        "sharpe_arr.max()"
      ],
      "execution_count": null,
      "outputs": [
        {
          "data": {
            "text/plain": [
              "1.0303260551271067"
            ]
          },
          "execution_count": 32,
          "metadata": {},
          "output_type": "execute_result"
        }
      ]
    },
    {
      "cell_type": "code",
      "metadata": {
        "id": "kXPCmpYwCeII",
        "outputId": "e80740e4-1a81-4acf-a274-81b83c452dc8"
      },
      "source": [
        "sharpe_arr.argmax()"
      ],
      "execution_count": null,
      "outputs": [
        {
          "data": {
            "text/plain": [
              "1419"
            ]
          },
          "execution_count": 33,
          "metadata": {},
          "output_type": "execute_result"
        }
      ]
    },
    {
      "cell_type": "code",
      "metadata": {
        "id": "7XPFmN3oCeII",
        "outputId": "28916185-0713-4ec6-8647-20221a3c909e"
      },
      "source": [
        "all_weights[1419]"
      ],
      "execution_count": null,
      "outputs": [
        {
          "data": {
            "text/plain": [
              "array([0.0692233 , 0.16473546, 0.43742662, 0.32861462])"
            ]
          },
          "execution_count": 34,
          "metadata": {},
          "output_type": "execute_result"
        }
      ]
    },
    {
      "cell_type": "code",
      "metadata": {
        "id": "tXMtSYvHCeIJ"
      },
      "source": [
        "max_sr_ret = ret_arr[1419]\n",
        "max_sr_vol = vol_arr[1419]"
      ],
      "execution_count": null,
      "outputs": []
    },
    {
      "cell_type": "code",
      "metadata": {
        "id": "VsQH9AjrCeIJ",
        "outputId": "3b6fb0ad-9603-48ae-dc7f-13a8b4e3ea64"
      },
      "source": [
        "plt.figure(figsize=(12,8))\n",
        "plt.scatter(vol_arr,ret_arr,c=sharpe_arr,cmap='plasma')\n",
        "plt.colorbar(label='sharpe ratio')\n",
        "plt.xlabel('volatility')\n",
        "plt.ylabel('returns')\n",
        "\n",
        "plt.scatter(max_sr_vol,max_sr_ret,c='red',s=50,edgecolors='black')"
      ],
      "execution_count": null,
      "outputs": [
        {
          "data": {
            "text/plain": [
              "<matplotlib.collections.PathCollection at 0x7f9762f57460>"
            ]
          },
          "execution_count": 53,
          "metadata": {},
          "output_type": "execute_result"
        },
        {
          "data": {
            "image/png": "[encoded data removed]",
            "text/plain": [
              "<Figure size 864x576 with 2 Axes>"
            ]
          },
          "metadata": {
            "needs_background": "light"
          },
          "output_type": "display_data"
        }
      ]
    },
    {
      "cell_type": "markdown",
      "metadata": {
        "id": "5OLyP1IbFDrJ"
      },
      "source": [
        "the particluar combination of weights that we got the maximum returns for, yields the red dot in the above graph. so if we were to maximise returns for any given volatility, we would travel along the edge/fonrtier of the above curve."
      ]
    },
    {
      "cell_type": "markdown",
      "metadata": {
        "id": "b68QO0VmFUOd"
      },
      "source": [
        "## scipy optimise"
      ]
    },
    {
      "cell_type": "code",
      "metadata": {
        "id": "xXm97aO-CeIJ"
      },
      "source": [
        "def get_ret_vol_sr(weights):\n",
        "    weights = np.array(weights)\n",
        "    ret = np.sum((log_ret.mean()*weights)*252)\n",
        "    vol = np.sqrt(np.dot(weights.T,np.dot(log_ret.cov()*252,weights)))\n",
        "    sr = ret/vol\n",
        "    return np.array([ret,vol,sr])"
      ],
      "execution_count": null,
      "outputs": []
    },
    {
      "cell_type": "code",
      "metadata": {
        "id": "xVmgDJU3CeIK",
        "outputId": "e84b7b0c-a826-4889-c663-37ea33e8dc6e"
      },
      "source": [
        "get_ret_vol_sr([0.4,0.4,0.1,0.1]) #returns returns, volatility and sharpe ratio"
      ],
      "execution_count": null,
      "outputs": [
        {
          "data": {
            "text/plain": [
              "array([0.14103196, 0.17937864, 0.78622493])"
            ]
          },
          "execution_count": 55,
          "metadata": {},
          "output_type": "execute_result"
        }
      ]
    },
    {
      "cell_type": "code",
      "metadata": {
        "id": "c0lnxvCuCeIK"
      },
      "source": [
        "from scipy.optimize import minimize"
      ],
      "execution_count": null,
      "outputs": []
    },
    {
      "cell_type": "code",
      "metadata": {
        "id": "Gxbsvi85CeIK"
      },
      "source": [
        "def neg_sharpe(weights):\n",
        "    return get_ret_vol_sr(weights)[2] * -1 #mutliplying sharpe ratio by -1 in order to get a quantity we can minimise, hence maximising the actual sharpe ratio"
      ],
      "execution_count": null,
      "outputs": []
    },
    {
      "cell_type": "code",
      "metadata": {
        "id": "7yIOUiPtCeIL"
      },
      "source": [
        "def check_sum(weights):\n",
        "    return np.sum(weights)-1 #return 0 if sum of weights = 1 "
      ],
      "execution_count": null,
      "outputs": []
    },
    {
      "cell_type": "code",
      "metadata": {
        "id": "tltrB_g8CeIL"
      },
      "source": [
        "cons = ({'type':'eq','fun':check_sum}) #defining constraints"
      ],
      "execution_count": null,
      "outputs": []
    },
    {
      "cell_type": "code",
      "metadata": {
        "id": "bE93wzbcCeIL"
      },
      "source": [
        "bounds = ((0,1),(0,1),(0,1),(0,1)) #bounds for weights"
      ],
      "execution_count": null,
      "outputs": []
    },
    {
      "cell_type": "code",
      "metadata": {
        "id": "MwE_qnp4CeIL"
      },
      "source": [
        "init_guess = [0.25,0.25,0.25,0.25] #starting point for the weights "
      ],
      "execution_count": null,
      "outputs": []
    },
    {
      "cell_type": "code",
      "metadata": {
        "id": "N3-J6JbBCeIL"
      },
      "source": [
        "opt_results = minimize(neg_sharpe,init_guess,method='SLSQP',bounds=bounds,constraints=cons) #where the magic happens, our optimise function (Sequential Least SQuares Programming)"
      ],
      "execution_count": null,
      "outputs": []
    },
    {
      "cell_type": "code",
      "metadata": {
        "id": "T2YvW86mCeIM",
        "outputId": "9a59e4ea-c0ee-4f54-956c-46749e3cd94c"
      },
      "source": [
        "opt_results #returns lot of things including the function value, jacobian and weights "
      ],
      "execution_count": null,
      "outputs": [
        {
          "data": {
            "text/plain": [
              "     fun: -1.030716870335278\n",
              "     jac: array([ 5.64157963e-05,  4.18424606e-05,  3.39921728e-01, -4.45097685e-05])\n",
              " message: 'Optimization terminated successfully.'\n",
              "    nfev: 42\n",
              "     nit: 7\n",
              "    njev: 7\n",
              "  status: 0\n",
              " success: True\n",
              "       x: array([2.66289767e-01, 2.04189827e-01, 2.94225365e-17, 5.29520405e-01])"
            ]
          },
          "execution_count": 63,
          "metadata": {},
          "output_type": "execute_result"
        }
      ]
    },
    {
      "cell_type": "code",
      "metadata": {
        "id": "wHxYo90OCeIM",
        "outputId": "4e22862c-36c6-40d5-825d-b8c21e74768a"
      },
      "source": [
        "opt_results.x #optimal weights"
      ],
      "execution_count": null,
      "outputs": [
        {
          "data": {
            "text/plain": [
              "array([2.66289767e-01, 2.04189827e-01, 2.94225365e-17, 5.29520405e-01])"
            ]
          },
          "execution_count": 64,
          "metadata": {},
          "output_type": "execute_result"
        }
      ]
    },
    {
      "cell_type": "code",
      "metadata": {
        "id": "otTmDanACeIM",
        "outputId": "83c94f7f-a54d-4534-cae7-946fcee54da1"
      },
      "source": [
        "get_ret_vol_sr(opt_results.x) #returns, volatility and sharpe ratio for above weights"
      ],
      "execution_count": null,
      "outputs": [
        {
          "data": {
            "text/plain": [
              "array([0.21885915, 0.21233683, 1.03071687])"
            ]
          },
          "execution_count": 65,
          "metadata": {},
          "output_type": "execute_result"
        }
      ]
    },
    {
      "cell_type": "code",
      "metadata": {
        "id": "k_QVILl6CeIN",
        "outputId": "5385d57e-28ee-49ef-b5ce-7637a4b9b04c"
      },
      "source": [
        "frontier_y = np.linspace(0,0.3,100) #our returns ranged from 0 to 0.3 so let's minimise volatility for a list of values from 0 to 0.3"
      ],
      "execution_count": null,
      "outputs": [
        {
          "data": {
            "text/plain": [
              "array([0.        , 0.0030303 , 0.00606061, 0.00909091, 0.01212121,\n",
              "       0.01515152, 0.01818182, 0.02121212, 0.02424242, 0.02727273,\n",
              "       0.03030303, 0.03333333, 0.03636364, 0.03939394, 0.04242424,\n",
              "       0.04545455, 0.04848485, 0.05151515, 0.05454545, 0.05757576,\n",
              "       0.06060606, 0.06363636, 0.06666667, 0.06969697, 0.07272727,\n",
              "       0.07575758, 0.07878788, 0.08181818, 0.08484848, 0.08787879,\n",
              "       0.09090909, 0.09393939, 0.0969697 , 0.1       , 0.1030303 ,\n",
              "       0.10606061, 0.10909091, 0.11212121, 0.11515152, 0.11818182,\n",
              "       0.12121212, 0.12424242, 0.12727273, 0.13030303, 0.13333333,\n",
              "       0.13636364, 0.13939394, 0.14242424, 0.14545455, 0.14848485,\n",
              "       0.15151515, 0.15454545, 0.15757576, 0.16060606, 0.16363636,\n",
              "       0.16666667, 0.16969697, 0.17272727, 0.17575758, 0.17878788,\n",
              "       0.18181818, 0.18484848, 0.18787879, 0.19090909, 0.19393939,\n",
              "       0.1969697 , 0.2       , 0.2030303 , 0.20606061, 0.20909091,\n",
              "       0.21212121, 0.21515152, 0.21818182, 0.22121212, 0.22424242,\n",
              "       0.22727273, 0.23030303, 0.23333333, 0.23636364, 0.23939394,\n",
              "       0.24242424, 0.24545455, 0.24848485, 0.25151515, 0.25454545,\n",
              "       0.25757576, 0.26060606, 0.26363636, 0.26666667, 0.26969697,\n",
              "       0.27272727, 0.27575758, 0.27878788, 0.28181818, 0.28484848,\n",
              "       0.28787879, 0.29090909, 0.29393939, 0.2969697 , 0.3       ])"
            ]
          },
          "execution_count": 66,
          "metadata": {},
          "output_type": "execute_result"
        }
      ]
    },
    {
      "cell_type": "code",
      "metadata": {
        "id": "M2oTihngCeIN"
      },
      "source": [
        "def get_volatility(weights):\n",
        "    return get_ret_vol_sr(weights)[1]"
      ],
      "execution_count": null,
      "outputs": []
    },
    {
      "cell_type": "code",
      "metadata": {
        "id": "suZdr1JgCeIN"
      },
      "source": [
        "frontier_vol = []\n",
        "\n",
        "for possible_return in frontier_y:\n",
        "    cons = ({'type':'eq','fun':check_sum},\n",
        "            {'type':'eq','fun': lambda w: get_ret_vol_sr(w)[0]-possible_return}) #checking that for a weight w, we have the maximum possible return as the difference must result in 0 if that's true\n",
        "    result = minimize(get_volatility, init_guess, method='SLSQP', bounds=bounds, constraints=cons) #we minimise volatility for every y value (i.e., for every return) and hence we will end up getting the border line from the previous graph\n",
        "    #we treat volatility as a function of weights\n",
        "    frontier_vol.append(result['fun']) "
      ],
      "execution_count": null,
      "outputs": []
    },
    {
      "cell_type": "code",
      "metadata": {
        "id": "yC45h8dPCeIN",
        "outputId": "43ef28ba-e706-4f9b-befc-c556701ea95c"
      },
      "source": [
        "result #value of result in the last iteration"
      ],
      "execution_count": null,
      "outputs": [
        {
          "data": {
            "text/plain": [
              "     fun: 0.30735923335533283\n",
              "     jac: array([0.0617701 , 0.06492731, 0.04860464, 0.30735923])\n",
              " message: 'Positive directional derivative for linesearch'\n",
              "    nfev: 103\n",
              "     nit: 12\n",
              "    njev: 8\n",
              "  status: 8\n",
              " success: False\n",
              "       x: array([3.87911188e-14, 1.19018270e-16, 2.19011946e-14, 1.00000000e+00])"
            ]
          },
          "execution_count": 73,
          "metadata": {},
          "output_type": "execute_result"
        }
      ]
    },
    {
      "cell_type": "code",
      "metadata": {
        "id": "CVex6JilCeIO",
        "outputId": "8b5c201e-8316-46a8-fe6e-3d530d654355"
      },
      "source": [
        "result['fun'] #value of result['fun'] in the last iteration "
      ],
      "execution_count": null,
      "outputs": [
        {
          "data": {
            "text/plain": [
              "0.30735923335533283"
            ]
          },
          "execution_count": 72,
          "metadata": {},
          "output_type": "execute_result"
        }
      ]
    },
    {
      "cell_type": "code",
      "metadata": {
        "id": "7VPi7o8sCeIO",
        "outputId": "54be5f67-143f-4ea1-c087-429b00cc9123"
      },
      "source": [
        "plt.figure(figsize = (12,8))\n",
        "plt.scatter(vol_arr,ret_arr,c=sharpe_arr,cmap='plasma')\n",
        "plt.colorbar(label='sharpe ratio')\n",
        "plt.xlabel('volatility')\n",
        "plt.ylabel('returns')\n",
        "\n",
        "plt.plot(frontier_vol,frontier_y,'g--',lw=3)"
      ],
      "execution_count": null,
      "outputs": [
        {
          "data": {
            "text/plain": [
              "[<matplotlib.lines.Line2D at 0x7f8077b26a30>]"
            ]
          },
          "execution_count": 155,
          "metadata": {},
          "output_type": "execute_result"
        },
        {
          "data": {
            "image/png": "[encoded data removed]",
            "text/plain": [
              "<Figure size 864x576 with 2 Axes>"
            ]
          },
          "metadata": {
            "needs_background": "light"
          },
          "output_type": "display_data"
        }
      ]
    }
  ]
}